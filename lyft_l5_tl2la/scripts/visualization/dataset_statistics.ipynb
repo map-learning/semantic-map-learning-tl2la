{
    "cells": [
        {
            "cell_type": "markdown",
            "id": "e06be4f5",
            "metadata": {},
            "source": [
                "# Dataset Statistics\n",
                "<br> ------------------------------------------------------------------------\n",
                "<br> This Notebook shows different dataset statistics of the Lyft \n",
                "<br> Lvl 5 dataset.\n",
                "<br>\n",
                "<br> tl2la\n",
                "<br> Copyright (c) 2023 Andreas Weber. All Rights Reserved.\n",
                "<br> ------------------------------------------------------------------------\n",
                "<br> Modified from L5Kit (https://github.com/woven-planet/l5kit)\n",
                "<br> Copyright (c) 2022 Woven by Toyota. All Rights Reserved.\n",
                "<br> ------------------------------------------------------------------------"
            ]
        },
        {
            "cell_type": "code",
            "execution_count": 2,
            "id": "31617ab8",
            "metadata": {},
            "outputs": [],
            "source": [
                "import numpy as np\n",
                "import pandas as pd\n",
                "import seaborn as sns\n",
                "import pickle\n",
                "import itertools\n",
                "import plotly.express as px\n",
                "import matplotlib.lines as mlines\n",
                "import matplotlib.pyplot as plt\n",
                "from datetime import time\n",
                "from matplotlib.ticker import FuncFormatter\n",
                "from prettytable import PrettyTable\n",
                "from tqdm import tqdm\n",
                "\n",
                "from l5kit.data import PERCEPTION_LABELS\n",
                "from l5kit.data import ChunkedDataset\n",
                "\n",
                "from src.dataset_operations.extended_map_api import ExtendedMapAPI\n",
                "from src.dataset_operations.junction_dataset import JunctionDataset\n",
                "from src.common.helper import init_dataset, load_pickled_df\n",
                "from src.visualization.map_renderer import StaticMapRenderer\n",
                "from src.dataset_operations.branch_dataset import DATASET_TYPE\n",
                "\n",
                "\n",
                "sns.set_style(\"darkgrid\")\n",
                "sns.set_palette(\"Set1\")\n",
                "pd.options.plotting.backend = \"plotly\""
            ]
        },
        {
            "cell_type": "markdown",
            "id": "2ed68f2a",
            "metadata": {},
            "source": [
                "## Load Datasets"
            ]
        },
        {
            "cell_type": "code",
            "execution_count": 4,
            "id": "34e6546e",
            "metadata": {},
            "outputs": [],
            "source": [
                "cfg_train1, dm_train1, train1_dataset = init_dataset(\"train1\")\n",
                "cfg_trainfull, dm_trainfull, trainfull_dataset = init_dataset(\"trainfull\")\n",
                "cfg_intro, dm_intro, intro_dataset = init_dataset(\"intro\")"
            ]
        },
        {
            "cell_type": "markdown",
            "id": "335f99f9",
            "metadata": {},
            "source": [
                "## Distirbution of Scenes over Dates and Time"
            ]
        },
        {
            "cell_type": "code",
            "execution_count": 7,
            "id": "e2df14a5",
            "metadata": {
                "lines_to_next_cell": 0,
                "title": "Show Distribution of Data over date"
            },
            "outputs": [
                {
                    "data": {
                        "application/vnd.plotly.v1+json": {
                            "config": {
                                "plotlyServerURL": "https://plot.ly"
                            },
                            "data": [
                                {
                                    "alignmentgroup": "True",
                                    "hovertemplate": "variable=date_train_full<br>Date=%{x}<br>Number of Scenes=%{y}<extra></extra>",
                                    "legendgroup": "date_train_full",
                                    "marker": {
                                        "color": "#636efa",
                                        "pattern": {
                                            "shape": ""
                                        }
                                    },
                                    "name": "date_train_full",
                                    "offsetgroup": "date_train_full",
                                    "orientation": "v",
                                    "showlegend": true,
                                    "textposition": "auto",
                                    "type": "bar",
                                    "x": [
                                        "2019-10-14",
                                        "2019-10-15",
                                        "2019-10-18",
                                        "2019-10-21",
                                        "2019-10-22",
                                        "2019-10-23",
                                        "2019-10-26",
                                        "2019-10-29",
                                        "2019-10-30",
                                        "2019-10-31",
                                        "2019-11-01",
                                        "2019-11-04",
                                        "2019-11-05",
                                        "2019-11-06",
                                        "2019-11-07",
                                        "2019-11-08",
                                        "2019-11-09",
                                        "2019-11-11",
                                        "2019-11-12",
                                        "2019-11-13",
                                        "2019-11-14",
                                        "2019-11-15",
                                        "2019-11-16",
                                        "2019-11-18",
                                        "2019-11-19",
                                        "2019-11-20",
                                        "2019-11-21",
                                        "2019-11-22",
                                        "2019-11-23",
                                        "2019-11-24",
                                        "2019-11-25",
                                        "2019-11-26",
                                        "2019-11-27",
                                        "2019-12-02",
                                        "2019-12-03",
                                        "2019-12-04",
                                        "2019-12-05",
                                        "2019-12-06",
                                        "2019-12-07",
                                        "2019-12-09",
                                        "2019-12-10",
                                        "2019-12-11",
                                        "2019-12-12",
                                        "2019-12-13",
                                        "2019-12-16",
                                        "2019-12-17",
                                        "2019-12-18",
                                        "2019-12-19",
                                        "2019-12-20",
                                        "2019-12-23",
                                        "2019-12-26",
                                        "2019-12-27",
                                        "2019-12-30",
                                        "2019-12-31",
                                        "2020-01-02",
                                        "2020-01-03",
                                        "2020-01-06",
                                        "2020-01-07",
                                        "2020-01-08",
                                        "2020-01-09",
                                        "2020-01-10",
                                        "2020-01-11",
                                        "2020-01-13",
                                        "2020-01-14",
                                        "2020-01-15",
                                        "2020-01-17",
                                        "2020-01-21",
                                        "2020-01-22",
                                        "2020-01-23",
                                        "2020-01-24",
                                        "2020-01-27",
                                        "2020-01-28",
                                        "2020-01-29",
                                        "2020-01-30",
                                        "2020-01-31",
                                        "2020-02-01",
                                        "2020-02-03",
                                        "2020-02-04",
                                        "2020-02-05",
                                        "2020-02-06",
                                        "2020-02-07",
                                        "2020-02-08",
                                        "2020-02-10",
                                        "2020-02-11",
                                        "2020-02-12",
                                        "2020-02-13",
                                        "2020-02-14",
                                        "2020-02-18",
                                        "2020-02-19",
                                        "2020-02-20",
                                        "2020-02-21",
                                        "2020-02-22",
                                        "2020-02-24",
                                        "2020-02-25",
                                        "2020-02-26",
                                        "2020-02-27",
                                        "2020-02-28",
                                        "2020-03-02",
                                        "2020-03-03",
                                        "2020-03-04",
                                        "2020-03-05",
                                        "2020-03-06",
                                        "2020-03-09",
                                        "2020-03-10",
                                        "2020-03-12",
                                        "2020-03-13"
                                    ],
                                    "xaxis": "x",
                                    "y": [
                                        35,
                                        82,
                                        126,
                                        897,
                                        1243,
                                        1024,
                                        260,
                                        1144,
                                        1919,
                                        2223,
                                        617,
                                        125,
                                        1403,
                                        2203,
                                        1524,
                                        727,
                                        139,
                                        1932,
                                        1914,
                                        1161,
                                        2549,
                                        993,
                                        481,
                                        744,
                                        1600,
                                        513,
                                        2579,
                                        2524,
                                        277,
                                        458,
                                        2137,
                                        1496,
                                        19,
                                        1824,
                                        1314,
                                        117,
                                        1845,
                                        2097,
                                        17,
                                        1474,
                                        1730,
                                        1090,
                                        2141,
                                        930,
                                        1225,
                                        2237,
                                        332,
                                        1328,
                                        500,
                                        1607,
                                        547,
                                        754,
                                        191,
                                        1083,
                                        607,
                                        1095,
                                        1717,
                                        1890,
                                        2014,
                                        796,
                                        1565,
                                        5,
                                        2017,
                                        1367,
                                        1819,
                                        1519,
                                        1796,
                                        1221,
                                        1529,
                                        1828,
                                        2023,
                                        1517,
                                        955,
                                        59,
                                        912,
                                        55,
                                        1372,
                                        1079,
                                        1043,
                                        668,
                                        2028,
                                        12,
                                        2255,
                                        2511,
                                        1554,
                                        2111,
                                        1153,
                                        2882,
                                        3374,
                                        1991,
                                        2028,
                                        22,
                                        2655,
                                        1,
                                        321,
                                        2038,
                                        1336,
                                        1912,
                                        1736,
                                        749,
                                        954,
                                        2573,
                                        2111,
                                        1141,
                                        71,
                                        1184
                                    ],
                                    "yaxis": "y"
                                },
                                {
                                    "alignmentgroup": "True",
                                    "hovertemplate": "variable=date_train1<br>Date=%{x}<br>Number of Scenes=%{y}<extra></extra>",
                                    "legendgroup": "date_train1",
                                    "marker": {
                                        "color": "#EF553B",
                                        "pattern": {
                                            "shape": ""
                                        }
                                    },
                                    "name": "date_train1",
                                    "offsetgroup": "date_train1",
                                    "orientation": "v",
                                    "showlegend": true,
                                    "textposition": "auto",
                                    "type": "bar",
                                    "x": [
                                        "2019-10-14",
                                        "2019-10-15",
                                        "2019-10-18",
                                        "2019-10-21",
                                        "2019-10-22",
                                        "2019-10-23",
                                        "2019-10-26",
                                        "2019-10-29",
                                        "2019-10-30",
                                        "2019-10-31",
                                        "2019-11-01",
                                        "2019-11-04",
                                        "2019-11-05",
                                        "2019-11-06",
                                        "2019-11-07",
                                        "2019-11-08",
                                        "2019-11-09",
                                        "2019-11-11",
                                        "2019-11-12",
                                        "2019-11-13",
                                        "2019-11-14",
                                        "2019-11-15",
                                        "2019-11-16",
                                        "2019-11-18",
                                        "2019-11-19",
                                        "2019-11-20",
                                        "2019-11-21",
                                        "2019-11-22",
                                        "2019-11-23",
                                        "2019-11-24",
                                        "2019-11-25",
                                        "2019-11-26",
                                        "2019-11-27",
                                        "2019-12-02",
                                        "2019-12-03",
                                        "2019-12-04",
                                        "2019-12-05",
                                        "2019-12-06",
                                        "2019-12-07",
                                        "2019-12-09",
                                        "2019-12-10",
                                        "2019-12-11",
                                        "2019-12-12",
                                        "2019-12-13",
                                        "2019-12-16",
                                        "2019-12-17",
                                        "2019-12-18",
                                        "2019-12-19",
                                        "2019-12-20",
                                        "2019-12-23",
                                        "2019-12-26",
                                        "2019-12-27",
                                        "2019-12-30",
                                        "2019-12-31",
                                        "2020-01-02",
                                        "2020-01-03",
                                        "2020-01-06",
                                        "2020-01-07",
                                        "2020-01-08",
                                        "2020-01-09",
                                        "2020-01-10",
                                        "2020-01-11",
                                        "2020-01-13",
                                        "2020-01-14",
                                        "2020-01-15",
                                        "2020-01-17",
                                        "2020-01-21",
                                        "2020-01-22",
                                        "2020-01-23",
                                        "2020-01-24",
                                        "2020-01-27",
                                        "2020-01-28",
                                        "2020-01-29",
                                        "2020-01-30",
                                        "2020-01-31",
                                        "2020-02-01",
                                        "2020-02-03",
                                        "2020-02-04",
                                        "2020-02-05",
                                        "2020-02-06",
                                        "2020-02-07",
                                        "2020-02-08",
                                        "2020-02-10",
                                        "2020-02-11",
                                        "2020-02-12",
                                        "2020-02-13",
                                        "2020-02-14",
                                        "2020-02-18",
                                        "2020-02-19",
                                        "2020-02-20",
                                        "2020-02-21",
                                        "2020-02-22",
                                        "2020-02-24",
                                        "2020-02-25",
                                        "2020-02-26",
                                        "2020-02-27",
                                        "2020-02-28",
                                        "2020-03-02",
                                        "2020-03-03",
                                        "2020-03-04",
                                        "2020-03-05",
                                        "2020-03-06",
                                        "2020-03-09",
                                        "2020-03-10",
                                        "2020-03-12",
                                        "2020-03-13"
                                    ],
                                    "xaxis": "x",
                                    "y": [
                                        35,
                                        null,
                                        null,
                                        null,
                                        null,
                                        264,
                                        null,
                                        33,
                                        59,
                                        null,
                                        48,
                                        null,
                                        null,
                                        369,
                                        null,
                                        192,
                                        139,
                                        287,
                                        179,
                                        30,
                                        null,
                                        null,
                                        null,
                                        49,
                                        null,
                                        56,
                                        673,
                                        259,
                                        null,
                                        458,
                                        238,
                                        257,
                                        null,
                                        587,
                                        359,
                                        38,
                                        879,
                                        null,
                                        null,
                                        null,
                                        null,
                                        253,
                                        545,
                                        7,
                                        71,
                                        null,
                                        null,
                                        311,
                                        55,
                                        null,
                                        null,
                                        null,
                                        null,
                                        325,
                                        299,
                                        361,
                                        247,
                                        null,
                                        248,
                                        113,
                                        312,
                                        null,
                                        392,
                                        10,
                                        null,
                                        371,
                                        947,
                                        190,
                                        76,
                                        528,
                                        394,
                                        68,
                                        238,
                                        null,
                                        null,
                                        null,
                                        639,
                                        303,
                                        128,
                                        null,
                                        337,
                                        null,
                                        null,
                                        583,
                                        8,
                                        51,
                                        67,
                                        455,
                                        null,
                                        null,
                                        null,
                                        null,
                                        null,
                                        null,
                                        null,
                                        null,
                                        370,
                                        549,
                                        269,
                                        22,
                                        null,
                                        null,
                                        259,
                                        114,
                                        null,
                                        262
                                    ],
                                    "yaxis": "y"
                                },
                                {
                                    "alignmentgroup": "True",
                                    "hovertemplate": "variable=date_intro<br>Date=%{x}<br>Number of Scenes=%{y}<extra></extra>",
                                    "legendgroup": "date_intro",
                                    "marker": {
                                        "color": "#00cc96",
                                        "pattern": {
                                            "shape": ""
                                        }
                                    },
                                    "name": "date_intro",
                                    "offsetgroup": "date_intro",
                                    "orientation": "v",
                                    "showlegend": true,
                                    "textposition": "auto",
                                    "type": "bar",
                                    "x": [
                                        "2019-10-14",
                                        "2019-10-15",
                                        "2019-10-18",
                                        "2019-10-21",
                                        "2019-10-22",
                                        "2019-10-23",
                                        "2019-10-26",
                                        "2019-10-29",
                                        "2019-10-30",
                                        "2019-10-31",
                                        "2019-11-01",
                                        "2019-11-04",
                                        "2019-11-05",
                                        "2019-11-06",
                                        "2019-11-07",
                                        "2019-11-08",
                                        "2019-11-09",
                                        "2019-11-11",
                                        "2019-11-12",
                                        "2019-11-13",
                                        "2019-11-14",
                                        "2019-11-15",
                                        "2019-11-16",
                                        "2019-11-18",
                                        "2019-11-19",
                                        "2019-11-20",
                                        "2019-11-21",
                                        "2019-11-22",
                                        "2019-11-23",
                                        "2019-11-24",
                                        "2019-11-25",
                                        "2019-11-26",
                                        "2019-11-27",
                                        "2019-12-02",
                                        "2019-12-03",
                                        "2019-12-04",
                                        "2019-12-05",
                                        "2019-12-06",
                                        "2019-12-07",
                                        "2019-12-09",
                                        "2019-12-10",
                                        "2019-12-11",
                                        "2019-12-12",
                                        "2019-12-13",
                                        "2019-12-16",
                                        "2019-12-17",
                                        "2019-12-18",
                                        "2019-12-19",
                                        "2019-12-20",
                                        "2019-12-23",
                                        "2019-12-26",
                                        "2019-12-27",
                                        "2019-12-30",
                                        "2019-12-31",
                                        "2020-01-02",
                                        "2020-01-03",
                                        "2020-01-06",
                                        "2020-01-07",
                                        "2020-01-08",
                                        "2020-01-09",
                                        "2020-01-10",
                                        "2020-01-11",
                                        "2020-01-13",
                                        "2020-01-14",
                                        "2020-01-15",
                                        "2020-01-17",
                                        "2020-01-21",
                                        "2020-01-22",
                                        "2020-01-23",
                                        "2020-01-24",
                                        "2020-01-27",
                                        "2020-01-28",
                                        "2020-01-29",
                                        "2020-01-30",
                                        "2020-01-31",
                                        "2020-02-01",
                                        "2020-02-03",
                                        "2020-02-04",
                                        "2020-02-05",
                                        "2020-02-06",
                                        "2020-02-07",
                                        "2020-02-08",
                                        "2020-02-10",
                                        "2020-02-11",
                                        "2020-02-12",
                                        "2020-02-13",
                                        "2020-02-14",
                                        "2020-02-18",
                                        "2020-02-19",
                                        "2020-02-20",
                                        "2020-02-21",
                                        "2020-02-22",
                                        "2020-02-24",
                                        "2020-02-25",
                                        "2020-02-26",
                                        "2020-02-27",
                                        "2020-02-28",
                                        "2020-03-02",
                                        "2020-03-03",
                                        "2020-03-04",
                                        "2020-03-05",
                                        "2020-03-06",
                                        "2020-03-09",
                                        "2020-03-10",
                                        "2020-03-12",
                                        "2020-03-13"
                                    ],
                                    "xaxis": "x",
                                    "y": [
                                        35,
                                        null,
                                        null,
                                        null,
                                        null,
                                        17,
                                        null,
                                        null,
                                        null,
                                        null,
                                        48,
                                        null,
                                        null,
                                        null,
                                        null,
                                        null,
                                        null,
                                        null,
                                        null,
                                        null,
                                        null,
                                        null,
                                        null,
                                        null,
                                        null,
                                        null,
                                        null,
                                        null,
                                        null,
                                        null,
                                        null,
                                        null,
                                        null,
                                        null,
                                        null,
                                        null,
                                        null,
                                        null,
                                        null,
                                        null,
                                        null,
                                        null,
                                        null,
                                        null,
                                        null,
                                        null,
                                        null,
                                        null,
                                        null,
                                        null,
                                        null,
                                        null,
                                        null,
                                        null,
                                        null,
                                        null,
                                        null,
                                        null,
                                        null,
                                        null,
                                        null,
                                        null,
                                        null,
                                        null,
                                        null,
                                        null,
                                        null,
                                        null,
                                        null,
                                        null,
                                        null,
                                        null,
                                        null,
                                        null,
                                        null,
                                        null,
                                        null,
                                        null,
                                        null,
                                        null,
                                        null,
                                        null,
                                        null,
                                        null,
                                        null,
                                        null,
                                        null,
                                        null,
                                        null,
                                        null,
                                        null,
                                        null,
                                        null,
                                        null,
                                        null,
                                        null,
                                        null,
                                        null,
                                        null,
                                        null,
                                        null,
                                        null,
                                        null,
                                        null,
                                        null,
                                        null
                                    ],
                                    "yaxis": "y"
                                }
                            ],
                            "layout": {
                                "barmode": "relative",
                                "legend": {
                                    "title": {
                                        "text": "variable"
                                    },
                                    "tracegroupgap": 0
                                },
                                "template": {
                                    "data": {
                                        "bar": [
                                            {
                                                "error_x": {
                                                    "color": "#2a3f5f"
                                                },
                                                "error_y": {
                                                    "color": "#2a3f5f"
                                                },
                                                "marker": {
                                                    "line": {
                                                        "color": "#E5ECF6",
                                                        "width": 0.5
                                                    },
                                                    "pattern": {
                                                        "fillmode": "overlay",
                                                        "size": 10,
                                                        "solidity": 0.2
                                                    }
                                                },
                                                "type": "bar"
                                            }
                                        ],
                                        "barpolar": [
                                            {
                                                "marker": {
                                                    "line": {
                                                        "color": "#E5ECF6",
                                                        "width": 0.5
                                                    },
                                                    "pattern": {
                                                        "fillmode": "overlay",
                                                        "size": 10,
                                                        "solidity": 0.2
                                                    }
                                                },
                                                "type": "barpolar"
                                            }
                                        ],
                                        "carpet": [
                                            {
                                                "aaxis": {
                                                    "endlinecolor": "#2a3f5f",
                                                    "gridcolor": "white",
                                                    "linecolor": "white",
                                                    "minorgridcolor": "white",
                                                    "startlinecolor": "#2a3f5f"
                                                },
                                                "baxis": {
                                                    "endlinecolor": "#2a3f5f",
                                                    "gridcolor": "white",
                                                    "linecolor": "white",
                                                    "minorgridcolor": "white",
                                                    "startlinecolor": "#2a3f5f"
                                                },
                                                "type": "carpet"
                                            }
                                        ],
                                        "choropleth": [
                                            {
                                                "colorbar": {
                                                    "outlinewidth": 0,
                                                    "ticks": ""
                                                },
                                                "type": "choropleth"
                                            }
                                        ],
                                        "contour": [
                                            {
                                                "colorbar": {
                                                    "outlinewidth": 0,
                                                    "ticks": ""
                                                },
                                                "colorscale": [
                                                    [
                                                        0,
                                                        "#0d0887"
                                                    ],
                                                    [
                                                        0.1111111111111111,
                                                        "#46039f"
                                                    ],
                                                    [
                                                        0.2222222222222222,
                                                        "#7201a8"
                                                    ],
                                                    [
                                                        0.3333333333333333,
                                                        "#9c179e"
                                                    ],
                                                    [
                                                        0.4444444444444444,
                                                        "#bd3786"
                                                    ],
                                                    [
                                                        0.5555555555555556,
                                                        "#d8576b"
                                                    ],
                                                    [
                                                        0.6666666666666666,
                                                        "#ed7953"
                                                    ],
                                                    [
                                                        0.7777777777777778,
                                                        "#fb9f3a"
                                                    ],
                                                    [
                                                        0.8888888888888888,
                                                        "#fdca26"
                                                    ],
                                                    [
                                                        1,
                                                        "#f0f921"
                                                    ]
                                                ],
                                                "type": "contour"
                                            }
                                        ],
                                        "contourcarpet": [
                                            {
                                                "colorbar": {
                                                    "outlinewidth": 0,
                                                    "ticks": ""
                                                },
                                                "type": "contourcarpet"
                                            }
                                        ],
                                        "heatmap": [
                                            {
                                                "colorbar": {
                                                    "outlinewidth": 0,
                                                    "ticks": ""
                                                },
                                                "colorscale": [
                                                    [
                                                        0,
                                                        "#0d0887"
                                                    ],
                                                    [
                                                        0.1111111111111111,
                                                        "#46039f"
                                                    ],
                                                    [
                                                        0.2222222222222222,
                                                        "#7201a8"
                                                    ],
                                                    [
                                                        0.3333333333333333,
                                                        "#9c179e"
                                                    ],
                                                    [
                                                        0.4444444444444444,
                                                        "#bd3786"
                                                    ],
                                                    [
                                                        0.5555555555555556,
                                                        "#d8576b"
                                                    ],
                                                    [
                                                        0.6666666666666666,
                                                        "#ed7953"
                                                    ],
                                                    [
                                                        0.7777777777777778,
                                                        "#fb9f3a"
                                                    ],
                                                    [
                                                        0.8888888888888888,
                                                        "#fdca26"
                                                    ],
                                                    [
                                                        1,
                                                        "#f0f921"
                                                    ]
                                                ],
                                                "type": "heatmap"
                                            }
                                        ],
                                        "heatmapgl": [
                                            {
                                                "colorbar": {
                                                    "outlinewidth": 0,
                                                    "ticks": ""
                                                },
                                                "colorscale": [
                                                    [
                                                        0,
                                                        "#0d0887"
                                                    ],
                                                    [
                                                        0.1111111111111111,
                                                        "#46039f"
                                                    ],
                                                    [
                                                        0.2222222222222222,
                                                        "#7201a8"
                                                    ],
                                                    [
                                                        0.3333333333333333,
                                                        "#9c179e"
                                                    ],
                                                    [
                                                        0.4444444444444444,
                                                        "#bd3786"
                                                    ],
                                                    [
                                                        0.5555555555555556,
                                                        "#d8576b"
                                                    ],
                                                    [
                                                        0.6666666666666666,
                                                        "#ed7953"
                                                    ],
                                                    [
                                                        0.7777777777777778,
                                                        "#fb9f3a"
                                                    ],
                                                    [
                                                        0.8888888888888888,
                                                        "#fdca26"
                                                    ],
                                                    [
                                                        1,
                                                        "#f0f921"
                                                    ]
                                                ],
                                                "type": "heatmapgl"
                                            }
                                        ],
                                        "histogram": [
                                            {
                                                "marker": {
                                                    "pattern": {
                                                        "fillmode": "overlay",
                                                        "size": 10,
                                                        "solidity": 0.2
                                                    }
                                                },
                                                "type": "histogram"
                                            }
                                        ],
                                        "histogram2d": [
                                            {
                                                "colorbar": {
                                                    "outlinewidth": 0,
                                                    "ticks": ""
                                                },
                                                "colorscale": [
                                                    [
                                                        0,
                                                        "#0d0887"
                                                    ],
                                                    [
                                                        0.1111111111111111,
                                                        "#46039f"
                                                    ],
                                                    [
                                                        0.2222222222222222,
                                                        "#7201a8"
                                                    ],
                                                    [
                                                        0.3333333333333333,
                                                        "#9c179e"
                                                    ],
                                                    [
                                                        0.4444444444444444,
                                                        "#bd3786"
                                                    ],
                                                    [
                                                        0.5555555555555556,
                                                        "#d8576b"
                                                    ],
                                                    [
                                                        0.6666666666666666,
                                                        "#ed7953"
                                                    ],
                                                    [
                                                        0.7777777777777778,
                                                        "#fb9f3a"
                                                    ],
                                                    [
                                                        0.8888888888888888,
                                                        "#fdca26"
                                                    ],
                                                    [
                                                        1,
                                                        "#f0f921"
                                                    ]
                                                ],
                                                "type": "histogram2d"
                                            }
                                        ],
                                        "histogram2dcontour": [
                                            {
                                                "colorbar": {
                                                    "outlinewidth": 0,
                                                    "ticks": ""
                                                },
                                                "colorscale": [
                                                    [
                                                        0,
                                                        "#0d0887"
                                                    ],
                                                    [
                                                        0.1111111111111111,
                                                        "#46039f"
                                                    ],
                                                    [
                                                        0.2222222222222222,
                                                        "#7201a8"
                                                    ],
                                                    [
                                                        0.3333333333333333,
                                                        "#9c179e"
                                                    ],
                                                    [
                                                        0.4444444444444444,
                                                        "#bd3786"
                                                    ],
                                                    [
                                                        0.5555555555555556,
                                                        "#d8576b"
                                                    ],
                                                    [
                                                        0.6666666666666666,
                                                        "#ed7953"
                                                    ],
                                                    [
                                                        0.7777777777777778,
                                                        "#fb9f3a"
                                                    ],
                                                    [
                                                        0.8888888888888888,
                                                        "#fdca26"
                                                    ],
                                                    [
                                                        1,
                                                        "#f0f921"
                                                    ]
                                                ],
                                                "type": "histogram2dcontour"
                                            }
                                        ],
                                        "mesh3d": [
                                            {
                                                "colorbar": {
                                                    "outlinewidth": 0,
                                                    "ticks": ""
                                                },
                                                "type": "mesh3d"
                                            }
                                        ],
                                        "parcoords": [
                                            {
                                                "line": {
                                                    "colorbar": {
                                                        "outlinewidth": 0,
                                                        "ticks": ""
                                                    }
                                                },
                                                "type": "parcoords"
                                            }
                                        ],
                                        "pie": [
                                            {
                                                "automargin": true,
                                                "type": "pie"
                                            }
                                        ],
                                        "scatter": [
                                            {
                                                "fillpattern": {
                                                    "fillmode": "overlay",
                                                    "size": 10,
                                                    "solidity": 0.2
                                                },
                                                "type": "scatter"
                                            }
                                        ],
                                        "scatter3d": [
                                            {
                                                "line": {
                                                    "colorbar": {
                                                        "outlinewidth": 0,
                                                        "ticks": ""
                                                    }
                                                },
                                                "marker": {
                                                    "colorbar": {
                                                        "outlinewidth": 0,
                                                        "ticks": ""
                                                    }
                                                },
                                                "type": "scatter3d"
                                            }
                                        ],
                                        "scattercarpet": [
                                            {
                                                "marker": {
                                                    "colorbar": {
                                                        "outlinewidth": 0,
                                                        "ticks": ""
                                                    }
                                                },
                                                "type": "scattercarpet"
                                            }
                                        ],
                                        "scattergeo": [
                                            {
                                                "marker": {
                                                    "colorbar": {
                                                        "outlinewidth": 0,
                                                        "ticks": ""
                                                    }
                                                },
                                                "type": "scattergeo"
                                            }
                                        ],
                                        "scattergl": [
                                            {
                                                "marker": {
                                                    "colorbar": {
                                                        "outlinewidth": 0,
                                                        "ticks": ""
                                                    }
                                                },
                                                "type": "scattergl"
                                            }
                                        ],
                                        "scattermapbox": [
                                            {
                                                "marker": {
                                                    "colorbar": {
                                                        "outlinewidth": 0,
                                                        "ticks": ""
                                                    }
                                                },
                                                "type": "scattermapbox"
                                            }
                                        ],
                                        "scatterpolar": [
                                            {
                                                "marker": {
                                                    "colorbar": {
                                                        "outlinewidth": 0,
                                                        "ticks": ""
                                                    }
                                                },
                                                "type": "scatterpolar"
                                            }
                                        ],
                                        "scatterpolargl": [
                                            {
                                                "marker": {
                                                    "colorbar": {
                                                        "outlinewidth": 0,
                                                        "ticks": ""
                                                    }
                                                },
                                                "type": "scatterpolargl"
                                            }
                                        ],
                                        "scatterternary": [
                                            {
                                                "marker": {
                                                    "colorbar": {
                                                        "outlinewidth": 0,
                                                        "ticks": ""
                                                    }
                                                },
                                                "type": "scatterternary"
                                            }
                                        ],
                                        "surface": [
                                            {
                                                "colorbar": {
                                                    "outlinewidth": 0,
                                                    "ticks": ""
                                                },
                                                "colorscale": [
                                                    [
                                                        0,
                                                        "#0d0887"
                                                    ],
                                                    [
                                                        0.1111111111111111,
                                                        "#46039f"
                                                    ],
                                                    [
                                                        0.2222222222222222,
                                                        "#7201a8"
                                                    ],
                                                    [
                                                        0.3333333333333333,
                                                        "#9c179e"
                                                    ],
                                                    [
                                                        0.4444444444444444,
                                                        "#bd3786"
                                                    ],
                                                    [
                                                        0.5555555555555556,
                                                        "#d8576b"
                                                    ],
                                                    [
                                                        0.6666666666666666,
                                                        "#ed7953"
                                                    ],
                                                    [
                                                        0.7777777777777778,
                                                        "#fb9f3a"
                                                    ],
                                                    [
                                                        0.8888888888888888,
                                                        "#fdca26"
                                                    ],
                                                    [
                                                        1,
                                                        "#f0f921"
                                                    ]
                                                ],
                                                "type": "surface"
                                            }
                                        ],
                                        "table": [
                                            {
                                                "cells": {
                                                    "fill": {
                                                        "color": "#EBF0F8"
                                                    },
                                                    "line": {
                                                        "color": "white"
                                                    }
                                                },
                                                "header": {
                                                    "fill": {
                                                        "color": "#C8D4E3"
                                                    },
                                                    "line": {
                                                        "color": "white"
                                                    }
                                                },
                                                "type": "table"
                                            }
                                        ]
                                    },
                                    "layout": {
                                        "annotationdefaults": {
                                            "arrowcolor": "#2a3f5f",
                                            "arrowhead": 0,
                                            "arrowwidth": 1
                                        },
                                        "autotypenumbers": "strict",
                                        "coloraxis": {
                                            "colorbar": {
                                                "outlinewidth": 0,
                                                "ticks": ""
                                            }
                                        },
                                        "colorscale": {
                                            "diverging": [
                                                [
                                                    0,
                                                    "#8e0152"
                                                ],
                                                [
                                                    0.1,
                                                    "#c51b7d"
                                                ],
                                                [
                                                    0.2,
                                                    "#de77ae"
                                                ],
                                                [
                                                    0.3,
                                                    "#f1b6da"
                                                ],
                                                [
                                                    0.4,
                                                    "#fde0ef"
                                                ],
                                                [
                                                    0.5,
                                                    "#f7f7f7"
                                                ],
                                                [
                                                    0.6,
                                                    "#e6f5d0"
                                                ],
                                                [
                                                    0.7,
                                                    "#b8e186"
                                                ],
                                                [
                                                    0.8,
                                                    "#7fbc41"
                                                ],
                                                [
                                                    0.9,
                                                    "#4d9221"
                                                ],
                                                [
                                                    1,
                                                    "#276419"
                                                ]
                                            ],
                                            "sequential": [
                                                [
                                                    0,
                                                    "#0d0887"
                                                ],
                                                [
                                                    0.1111111111111111,
                                                    "#46039f"
                                                ],
                                                [
                                                    0.2222222222222222,
                                                    "#7201a8"
                                                ],
                                                [
                                                    0.3333333333333333,
                                                    "#9c179e"
                                                ],
                                                [
                                                    0.4444444444444444,
                                                    "#bd3786"
                                                ],
                                                [
                                                    0.5555555555555556,
                                                    "#d8576b"
                                                ],
                                                [
                                                    0.6666666666666666,
                                                    "#ed7953"
                                                ],
                                                [
                                                    0.7777777777777778,
                                                    "#fb9f3a"
                                                ],
                                                [
                                                    0.8888888888888888,
                                                    "#fdca26"
                                                ],
                                                [
                                                    1,
                                                    "#f0f921"
                                                ]
                                            ],
                                            "sequentialminus": [
                                                [
                                                    0,
                                                    "#0d0887"
                                                ],
                                                [
                                                    0.1111111111111111,
                                                    "#46039f"
                                                ],
                                                [
                                                    0.2222222222222222,
                                                    "#7201a8"
                                                ],
                                                [
                                                    0.3333333333333333,
                                                    "#9c179e"
                                                ],
                                                [
                                                    0.4444444444444444,
                                                    "#bd3786"
                                                ],
                                                [
                                                    0.5555555555555556,
                                                    "#d8576b"
                                                ],
                                                [
                                                    0.6666666666666666,
                                                    "#ed7953"
                                                ],
                                                [
                                                    0.7777777777777778,
                                                    "#fb9f3a"
                                                ],
                                                [
                                                    0.8888888888888888,
                                                    "#fdca26"
                                                ],
                                                [
                                                    1,
                                                    "#f0f921"
                                                ]
                                            ]
                                        },
                                        "colorway": [
                                            "#636efa",
                                            "#EF553B",
                                            "#00cc96",
                                            "#ab63fa",
                                            "#FFA15A",
                                            "#19d3f3",
                                            "#FF6692",
                                            "#B6E880",
                                            "#FF97FF",
                                            "#FECB52"
                                        ],
                                        "font": {
                                            "color": "#2a3f5f"
                                        },
                                        "geo": {
                                            "bgcolor": "white",
                                            "lakecolor": "white",
                                            "landcolor": "#E5ECF6",
                                            "showlakes": true,
                                            "showland": true,
                                            "subunitcolor": "white"
                                        },
                                        "hoverlabel": {
                                            "align": "left"
                                        },
                                        "hovermode": "closest",
                                        "mapbox": {
                                            "style": "light"
                                        },
                                        "paper_bgcolor": "white",
                                        "plot_bgcolor": "#E5ECF6",
                                        "polar": {
                                            "angularaxis": {
                                                "gridcolor": "white",
                                                "linecolor": "white",
                                                "ticks": ""
                                            },
                                            "bgcolor": "#E5ECF6",
                                            "radialaxis": {
                                                "gridcolor": "white",
                                                "linecolor": "white",
                                                "ticks": ""
                                            }
                                        },
                                        "scene": {
                                            "xaxis": {
                                                "backgroundcolor": "#E5ECF6",
                                                "gridcolor": "white",
                                                "gridwidth": 2,
                                                "linecolor": "white",
                                                "showbackground": true,
                                                "ticks": "",
                                                "zerolinecolor": "white"
                                            },
                                            "yaxis": {
                                                "backgroundcolor": "#E5ECF6",
                                                "gridcolor": "white",
                                                "gridwidth": 2,
                                                "linecolor": "white",
                                                "showbackground": true,
                                                "ticks": "",
                                                "zerolinecolor": "white"
                                            },
                                            "zaxis": {
                                                "backgroundcolor": "#E5ECF6",
                                                "gridcolor": "white",
                                                "gridwidth": 2,
                                                "linecolor": "white",
                                                "showbackground": true,
                                                "ticks": "",
                                                "zerolinecolor": "white"
                                            }
                                        },
                                        "shapedefaults": {
                                            "line": {
                                                "color": "#2a3f5f"
                                            }
                                        },
                                        "ternary": {
                                            "aaxis": {
                                                "gridcolor": "white",
                                                "linecolor": "white",
                                                "ticks": ""
                                            },
                                            "baxis": {
                                                "gridcolor": "white",
                                                "linecolor": "white",
                                                "ticks": ""
                                            },
                                            "bgcolor": "#E5ECF6",
                                            "caxis": {
                                                "gridcolor": "white",
                                                "linecolor": "white",
                                                "ticks": ""
                                            }
                                        },
                                        "title": {
                                            "x": 0.05
                                        },
                                        "xaxis": {
                                            "automargin": true,
                                            "gridcolor": "white",
                                            "linecolor": "white",
                                            "ticks": "",
                                            "title": {
                                                "standoff": 15
                                            },
                                            "zerolinecolor": "white",
                                            "zerolinewidth": 2
                                        },
                                        "yaxis": {
                                            "automargin": true,
                                            "gridcolor": "white",
                                            "linecolor": "white",
                                            "ticks": "",
                                            "title": {
                                                "standoff": 15
                                            },
                                            "zerolinecolor": "white",
                                            "zerolinewidth": 2
                                        }
                                    }
                                },
                                "title": {
                                    "text": "Distribution of scenes over Dates"
                                },
                                "xaxis": {
                                    "anchor": "y",
                                    "domain": [
                                        0,
                                        1
                                    ],
                                    "title": {
                                        "text": "Date"
                                    }
                                },
                                "yaxis": {
                                    "anchor": "x",
                                    "domain": [
                                        0,
                                        1
                                    ],
                                    "title": {
                                        "text": "Number of Scenes"
                                    }
                                }
                            }
                        },
                        "text/html": [
                            "<div>                            <div id=\"0cdc8f54-020c-4127-9ba1-fa696064240b\" class=\"plotly-graph-div\" style=\"height:525px; width:100%;\"></div>            <script type=\"text/javascript\">                require([\"plotly\"], function(Plotly) {                    window.PLOTLYENV=window.PLOTLYENV || {};                                    if (document.getElementById(\"0cdc8f54-020c-4127-9ba1-fa696064240b\")) {                    Plotly.newPlot(                        \"0cdc8f54-020c-4127-9ba1-fa696064240b\",                        [{\"alignmentgroup\":\"True\",\"hovertemplate\":\"variable=date_train_full<br>Date=%{x}<br>Number of Scenes=%{y}<extra></extra>\",\"legendgroup\":\"date_train_full\",\"marker\":{\"color\":\"#636efa\",\"pattern\":{\"shape\":\"\"}},\"name\":\"date_train_full\",\"offsetgroup\":\"date_train_full\",\"orientation\":\"v\",\"showlegend\":true,\"textposition\":\"auto\",\"x\":[\"2019-10-14\",\"2019-10-15\",\"2019-10-18\",\"2019-10-21\",\"2019-10-22\",\"2019-10-23\",\"2019-10-26\",\"2019-10-29\",\"2019-10-30\",\"2019-10-31\",\"2019-11-01\",\"2019-11-04\",\"2019-11-05\",\"2019-11-06\",\"2019-11-07\",\"2019-11-08\",\"2019-11-09\",\"2019-11-11\",\"2019-11-12\",\"2019-11-13\",\"2019-11-14\",\"2019-11-15\",\"2019-11-16\",\"2019-11-18\",\"2019-11-19\",\"2019-11-20\",\"2019-11-21\",\"2019-11-22\",\"2019-11-23\",\"2019-11-24\",\"2019-11-25\",\"2019-11-26\",\"2019-11-27\",\"2019-12-02\",\"2019-12-03\",\"2019-12-04\",\"2019-12-05\",\"2019-12-06\",\"2019-12-07\",\"2019-12-09\",\"2019-12-10\",\"2019-12-11\",\"2019-12-12\",\"2019-12-13\",\"2019-12-16\",\"2019-12-17\",\"2019-12-18\",\"2019-12-19\",\"2019-12-20\",\"2019-12-23\",\"2019-12-26\",\"2019-12-27\",\"2019-12-30\",\"2019-12-31\",\"2020-01-02\",\"2020-01-03\",\"2020-01-06\",\"2020-01-07\",\"2020-01-08\",\"2020-01-09\",\"2020-01-10\",\"2020-01-11\",\"2020-01-13\",\"2020-01-14\",\"2020-01-15\",\"2020-01-17\",\"2020-01-21\",\"2020-01-22\",\"2020-01-23\",\"2020-01-24\",\"2020-01-27\",\"2020-01-28\",\"2020-01-29\",\"2020-01-30\",\"2020-01-31\",\"2020-02-01\",\"2020-02-03\",\"2020-02-04\",\"2020-02-05\",\"2020-02-06\",\"2020-02-07\",\"2020-02-08\",\"2020-02-10\",\"2020-02-11\",\"2020-02-12\",\"2020-02-13\",\"2020-02-14\",\"2020-02-18\",\"2020-02-19\",\"2020-02-20\",\"2020-02-21\",\"2020-02-22\",\"2020-02-24\",\"2020-02-25\",\"2020-02-26\",\"2020-02-27\",\"2020-02-28\",\"2020-03-02\",\"2020-03-03\",\"2020-03-04\",\"2020-03-05\",\"2020-03-06\",\"2020-03-09\",\"2020-03-10\",\"2020-03-12\",\"2020-03-13\"],\"xaxis\":\"x\",\"y\":[35.0,82.0,126.0,897.0,1243.0,1024.0,260.0,1144.0,1919.0,2223.0,617.0,125.0,1403.0,2203.0,1524.0,727.0,139.0,1932.0,1914.0,1161.0,2549.0,993.0,481.0,744.0,1600.0,513.0,2579.0,2524.0,277.0,458.0,2137.0,1496.0,19.0,1824.0,1314.0,117.0,1845.0,2097.0,17.0,1474.0,1730.0,1090.0,2141.0,930.0,1225.0,2237.0,332.0,1328.0,500.0,1607.0,547.0,754.0,191.0,1083.0,607.0,1095.0,1717.0,1890.0,2014.0,796.0,1565.0,5.0,2017.0,1367.0,1819.0,1519.0,1796.0,1221.0,1529.0,1828.0,2023.0,1517.0,955.0,59.0,912.0,55.0,1372.0,1079.0,1043.0,668.0,2028.0,12.0,2255.0,2511.0,1554.0,2111.0,1153.0,2882.0,3374.0,1991.0,2028.0,22.0,2655.0,1.0,321.0,2038.0,1336.0,1912.0,1736.0,749.0,954.0,2573.0,2111.0,1141.0,71.0,1184.0],\"yaxis\":\"y\",\"type\":\"bar\"},{\"alignmentgroup\":\"True\",\"hovertemplate\":\"variable=date_train1<br>Date=%{x}<br>Number of Scenes=%{y}<extra></extra>\",\"legendgroup\":\"date_train1\",\"marker\":{\"color\":\"#EF553B\",\"pattern\":{\"shape\":\"\"}},\"name\":\"date_train1\",\"offsetgroup\":\"date_train1\",\"orientation\":\"v\",\"showlegend\":true,\"textposition\":\"auto\",\"x\":[\"2019-10-14\",\"2019-10-15\",\"2019-10-18\",\"2019-10-21\",\"2019-10-22\",\"2019-10-23\",\"2019-10-26\",\"2019-10-29\",\"2019-10-30\",\"2019-10-31\",\"2019-11-01\",\"2019-11-04\",\"2019-11-05\",\"2019-11-06\",\"2019-11-07\",\"2019-11-08\",\"2019-11-09\",\"2019-11-11\",\"2019-11-12\",\"2019-11-13\",\"2019-11-14\",\"2019-11-15\",\"2019-11-16\",\"2019-11-18\",\"2019-11-19\",\"2019-11-20\",\"2019-11-21\",\"2019-11-22\",\"2019-11-23\",\"2019-11-24\",\"2019-11-25\",\"2019-11-26\",\"2019-11-27\",\"2019-12-02\",\"2019-12-03\",\"2019-12-04\",\"2019-12-05\",\"2019-12-06\",\"2019-12-07\",\"2019-12-09\",\"2019-12-10\",\"2019-12-11\",\"2019-12-12\",\"2019-12-13\",\"2019-12-16\",\"2019-12-17\",\"2019-12-18\",\"2019-12-19\",\"2019-12-20\",\"2019-12-23\",\"2019-12-26\",\"2019-12-27\",\"2019-12-30\",\"2019-12-31\",\"2020-01-02\",\"2020-01-03\",\"2020-01-06\",\"2020-01-07\",\"2020-01-08\",\"2020-01-09\",\"2020-01-10\",\"2020-01-11\",\"2020-01-13\",\"2020-01-14\",\"2020-01-15\",\"2020-01-17\",\"2020-01-21\",\"2020-01-22\",\"2020-01-23\",\"2020-01-24\",\"2020-01-27\",\"2020-01-28\",\"2020-01-29\",\"2020-01-30\",\"2020-01-31\",\"2020-02-01\",\"2020-02-03\",\"2020-02-04\",\"2020-02-05\",\"2020-02-06\",\"2020-02-07\",\"2020-02-08\",\"2020-02-10\",\"2020-02-11\",\"2020-02-12\",\"2020-02-13\",\"2020-02-14\",\"2020-02-18\",\"2020-02-19\",\"2020-02-20\",\"2020-02-21\",\"2020-02-22\",\"2020-02-24\",\"2020-02-25\",\"2020-02-26\",\"2020-02-27\",\"2020-02-28\",\"2020-03-02\",\"2020-03-03\",\"2020-03-04\",\"2020-03-05\",\"2020-03-06\",\"2020-03-09\",\"2020-03-10\",\"2020-03-12\",\"2020-03-13\"],\"xaxis\":\"x\",\"y\":[35.0,null,null,null,null,264.0,null,33.0,59.0,null,48.0,null,null,369.0,null,192.0,139.0,287.0,179.0,30.0,null,null,null,49.0,null,56.0,673.0,259.0,null,458.0,238.0,257.0,null,587.0,359.0,38.0,879.0,null,null,null,null,253.0,545.0,7.0,71.0,null,null,311.0,55.0,null,null,null,null,325.0,299.0,361.0,247.0,null,248.0,113.0,312.0,null,392.0,10.0,null,371.0,947.0,190.0,76.0,528.0,394.0,68.0,238.0,null,null,null,639.0,303.0,128.0,null,337.0,null,null,583.0,8.0,51.0,67.0,455.0,null,null,null,null,null,null,null,null,370.0,549.0,269.0,22.0,null,null,259.0,114.0,null,262.0],\"yaxis\":\"y\",\"type\":\"bar\"},{\"alignmentgroup\":\"True\",\"hovertemplate\":\"variable=date_intro<br>Date=%{x}<br>Number of Scenes=%{y}<extra></extra>\",\"legendgroup\":\"date_intro\",\"marker\":{\"color\":\"#00cc96\",\"pattern\":{\"shape\":\"\"}},\"name\":\"date_intro\",\"offsetgroup\":\"date_intro\",\"orientation\":\"v\",\"showlegend\":true,\"textposition\":\"auto\",\"x\":[\"2019-10-14\",\"2019-10-15\",\"2019-10-18\",\"2019-10-21\",\"2019-10-22\",\"2019-10-23\",\"2019-10-26\",\"2019-10-29\",\"2019-10-30\",\"2019-10-31\",\"2019-11-01\",\"2019-11-04\",\"2019-11-05\",\"2019-11-06\",\"2019-11-07\",\"2019-11-08\",\"2019-11-09\",\"2019-11-11\",\"2019-11-12\",\"2019-11-13\",\"2019-11-14\",\"2019-11-15\",\"2019-11-16\",\"2019-11-18\",\"2019-11-19\",\"2019-11-20\",\"2019-11-21\",\"2019-11-22\",\"2019-11-23\",\"2019-11-24\",\"2019-11-25\",\"2019-11-26\",\"2019-11-27\",\"2019-12-02\",\"2019-12-03\",\"2019-12-04\",\"2019-12-05\",\"2019-12-06\",\"2019-12-07\",\"2019-12-09\",\"2019-12-10\",\"2019-12-11\",\"2019-12-12\",\"2019-12-13\",\"2019-12-16\",\"2019-12-17\",\"2019-12-18\",\"2019-12-19\",\"2019-12-20\",\"2019-12-23\",\"2019-12-26\",\"2019-12-27\",\"2019-12-30\",\"2019-12-31\",\"2020-01-02\",\"2020-01-03\",\"2020-01-06\",\"2020-01-07\",\"2020-01-08\",\"2020-01-09\",\"2020-01-10\",\"2020-01-11\",\"2020-01-13\",\"2020-01-14\",\"2020-01-15\",\"2020-01-17\",\"2020-01-21\",\"2020-01-22\",\"2020-01-23\",\"2020-01-24\",\"2020-01-27\",\"2020-01-28\",\"2020-01-29\",\"2020-01-30\",\"2020-01-31\",\"2020-02-01\",\"2020-02-03\",\"2020-02-04\",\"2020-02-05\",\"2020-02-06\",\"2020-02-07\",\"2020-02-08\",\"2020-02-10\",\"2020-02-11\",\"2020-02-12\",\"2020-02-13\",\"2020-02-14\",\"2020-02-18\",\"2020-02-19\",\"2020-02-20\",\"2020-02-21\",\"2020-02-22\",\"2020-02-24\",\"2020-02-25\",\"2020-02-26\",\"2020-02-27\",\"2020-02-28\",\"2020-03-02\",\"2020-03-03\",\"2020-03-04\",\"2020-03-05\",\"2020-03-06\",\"2020-03-09\",\"2020-03-10\",\"2020-03-12\",\"2020-03-13\"],\"xaxis\":\"x\",\"y\":[35.0,null,null,null,null,17.0,null,null,null,null,48.0,null,null,null,null,null,null,null,null,null,null,null,null,null,null,null,null,null,null,null,null,null,null,null,null,null,null,null,null,null,null,null,null,null,null,null,null,null,null,null,null,null,null,null,null,null,null,null,null,null,null,null,null,null,null,null,null,null,null,null,null,null,null,null,null,null,null,null,null,null,null,null,null,null,null,null,null,null,null,null,null,null,null,null,null,null,null,null,null,null,null,null,null,null,null,null],\"yaxis\":\"y\",\"type\":\"bar\"}],                        {\"template\":{\"data\":{\"histogram2dcontour\":[{\"type\":\"histogram2dcontour\",\"colorbar\":{\"outlinewidth\":0,\"ticks\":\"\"},\"colorscale\":[[0.0,\"#0d0887\"],[0.1111111111111111,\"#46039f\"],[0.2222222222222222,\"#7201a8\"],[0.3333333333333333,\"#9c179e\"],[0.4444444444444444,\"#bd3786\"],[0.5555555555555556,\"#d8576b\"],[0.6666666666666666,\"#ed7953\"],[0.7777777777777778,\"#fb9f3a\"],[0.8888888888888888,\"#fdca26\"],[1.0,\"#f0f921\"]]}],\"choropleth\":[{\"type\":\"choropleth\",\"colorbar\":{\"outlinewidth\":0,\"ticks\":\"\"}}],\"histogram2d\":[{\"type\":\"histogram2d\",\"colorbar\":{\"outlinewidth\":0,\"ticks\":\"\"},\"colorscale\":[[0.0,\"#0d0887\"],[0.1111111111111111,\"#46039f\"],[0.2222222222222222,\"#7201a8\"],[0.3333333333333333,\"#9c179e\"],[0.4444444444444444,\"#bd3786\"],[0.5555555555555556,\"#d8576b\"],[0.6666666666666666,\"#ed7953\"],[0.7777777777777778,\"#fb9f3a\"],[0.8888888888888888,\"#fdca26\"],[1.0,\"#f0f921\"]]}],\"heatmap\":[{\"type\":\"heatmap\",\"colorbar\":{\"outlinewidth\":0,\"ticks\":\"\"},\"colorscale\":[[0.0,\"#0d0887\"],[0.1111111111111111,\"#46039f\"],[0.2222222222222222,\"#7201a8\"],[0.3333333333333333,\"#9c179e\"],[0.4444444444444444,\"#bd3786\"],[0.5555555555555556,\"#d8576b\"],[0.6666666666666666,\"#ed7953\"],[0.7777777777777778,\"#fb9f3a\"],[0.8888888888888888,\"#fdca26\"],[1.0,\"#f0f921\"]]}],\"heatmapgl\":[{\"type\":\"heatmapgl\",\"colorbar\":{\"outlinewidth\":0,\"ticks\":\"\"},\"colorscale\":[[0.0,\"#0d0887\"],[0.1111111111111111,\"#46039f\"],[0.2222222222222222,\"#7201a8\"],[0.3333333333333333,\"#9c179e\"],[0.4444444444444444,\"#bd3786\"],[0.5555555555555556,\"#d8576b\"],[0.6666666666666666,\"#ed7953\"],[0.7777777777777778,\"#fb9f3a\"],[0.8888888888888888,\"#fdca26\"],[1.0,\"#f0f921\"]]}],\"contourcarpet\":[{\"type\":\"contourcarpet\",\"colorbar\":{\"outlinewidth\":0,\"ticks\":\"\"}}],\"contour\":[{\"type\":\"contour\",\"colorbar\":{\"outlinewidth\":0,\"ticks\":\"\"},\"colorscale\":[[0.0,\"#0d0887\"],[0.1111111111111111,\"#46039f\"],[0.2222222222222222,\"#7201a8\"],[0.3333333333333333,\"#9c179e\"],[0.4444444444444444,\"#bd3786\"],[0.5555555555555556,\"#d8576b\"],[0.6666666666666666,\"#ed7953\"],[0.7777777777777778,\"#fb9f3a\"],[0.8888888888888888,\"#fdca26\"],[1.0,\"#f0f921\"]]}],\"surface\":[{\"type\":\"surface\",\"colorbar\":{\"outlinewidth\":0,\"ticks\":\"\"},\"colorscale\":[[0.0,\"#0d0887\"],[0.1111111111111111,\"#46039f\"],[0.2222222222222222,\"#7201a8\"],[0.3333333333333333,\"#9c179e\"],[0.4444444444444444,\"#bd3786\"],[0.5555555555555556,\"#d8576b\"],[0.6666666666666666,\"#ed7953\"],[0.7777777777777778,\"#fb9f3a\"],[0.8888888888888888,\"#fdca26\"],[1.0,\"#f0f921\"]]}],\"mesh3d\":[{\"type\":\"mesh3d\",\"colorbar\":{\"outlinewidth\":0,\"ticks\":\"\"}}],\"scatter\":[{\"fillpattern\":{\"fillmode\":\"overlay\",\"size\":10,\"solidity\":0.2},\"type\":\"scatter\"}],\"parcoords\":[{\"type\":\"parcoords\",\"line\":{\"colorbar\":{\"outlinewidth\":0,\"ticks\":\"\"}}}],\"scatterpolargl\":[{\"type\":\"scatterpolargl\",\"marker\":{\"colorbar\":{\"outlinewidth\":0,\"ticks\":\"\"}}}],\"bar\":[{\"error_x\":{\"color\":\"#2a3f5f\"},\"error_y\":{\"color\":\"#2a3f5f\"},\"marker\":{\"line\":{\"color\":\"#E5ECF6\",\"width\":0.5},\"pattern\":{\"fillmode\":\"overlay\",\"size\":10,\"solidity\":0.2}},\"type\":\"bar\"}],\"scattergeo\":[{\"type\":\"scattergeo\",\"marker\":{\"colorbar\":{\"outlinewidth\":0,\"ticks\":\"\"}}}],\"scatterpolar\":[{\"type\":\"scatterpolar\",\"marker\":{\"colorbar\":{\"outlinewidth\":0,\"ticks\":\"\"}}}],\"histogram\":[{\"marker\":{\"pattern\":{\"fillmode\":\"overlay\",\"size\":10,\"solidity\":0.2}},\"type\":\"histogram\"}],\"scattergl\":[{\"type\":\"scattergl\",\"marker\":{\"colorbar\":{\"outlinewidth\":0,\"ticks\":\"\"}}}],\"scatter3d\":[{\"type\":\"scatter3d\",\"line\":{\"colorbar\":{\"outlinewidth\":0,\"ticks\":\"\"}},\"marker\":{\"colorbar\":{\"outlinewidth\":0,\"ticks\":\"\"}}}],\"scattermapbox\":[{\"type\":\"scattermapbox\",\"marker\":{\"colorbar\":{\"outlinewidth\":0,\"ticks\":\"\"}}}],\"scatterternary\":[{\"type\":\"scatterternary\",\"marker\":{\"colorbar\":{\"outlinewidth\":0,\"ticks\":\"\"}}}],\"scattercarpet\":[{\"type\":\"scattercarpet\",\"marker\":{\"colorbar\":{\"outlinewidth\":0,\"ticks\":\"\"}}}],\"carpet\":[{\"aaxis\":{\"endlinecolor\":\"#2a3f5f\",\"gridcolor\":\"white\",\"linecolor\":\"white\",\"minorgridcolor\":\"white\",\"startlinecolor\":\"#2a3f5f\"},\"baxis\":{\"endlinecolor\":\"#2a3f5f\",\"gridcolor\":\"white\",\"linecolor\":\"white\",\"minorgridcolor\":\"white\",\"startlinecolor\":\"#2a3f5f\"},\"type\":\"carpet\"}],\"table\":[{\"cells\":{\"fill\":{\"color\":\"#EBF0F8\"},\"line\":{\"color\":\"white\"}},\"header\":{\"fill\":{\"color\":\"#C8D4E3\"},\"line\":{\"color\":\"white\"}},\"type\":\"table\"}],\"barpolar\":[{\"marker\":{\"line\":{\"color\":\"#E5ECF6\",\"width\":0.5},\"pattern\":{\"fillmode\":\"overlay\",\"size\":10,\"solidity\":0.2}},\"type\":\"barpolar\"}],\"pie\":[{\"automargin\":true,\"type\":\"pie\"}]},\"layout\":{\"autotypenumbers\":\"strict\",\"colorway\":[\"#636efa\",\"#EF553B\",\"#00cc96\",\"#ab63fa\",\"#FFA15A\",\"#19d3f3\",\"#FF6692\",\"#B6E880\",\"#FF97FF\",\"#FECB52\"],\"font\":{\"color\":\"#2a3f5f\"},\"hovermode\":\"closest\",\"hoverlabel\":{\"align\":\"left\"},\"paper_bgcolor\":\"white\",\"plot_bgcolor\":\"#E5ECF6\",\"polar\":{\"bgcolor\":\"#E5ECF6\",\"angularaxis\":{\"gridcolor\":\"white\",\"linecolor\":\"white\",\"ticks\":\"\"},\"radialaxis\":{\"gridcolor\":\"white\",\"linecolor\":\"white\",\"ticks\":\"\"}},\"ternary\":{\"bgcolor\":\"#E5ECF6\",\"aaxis\":{\"gridcolor\":\"white\",\"linecolor\":\"white\",\"ticks\":\"\"},\"baxis\":{\"gridcolor\":\"white\",\"linecolor\":\"white\",\"ticks\":\"\"},\"caxis\":{\"gridcolor\":\"white\",\"linecolor\":\"white\",\"ticks\":\"\"}},\"coloraxis\":{\"colorbar\":{\"outlinewidth\":0,\"ticks\":\"\"}},\"colorscale\":{\"sequential\":[[0.0,\"#0d0887\"],[0.1111111111111111,\"#46039f\"],[0.2222222222222222,\"#7201a8\"],[0.3333333333333333,\"#9c179e\"],[0.4444444444444444,\"#bd3786\"],[0.5555555555555556,\"#d8576b\"],[0.6666666666666666,\"#ed7953\"],[0.7777777777777778,\"#fb9f3a\"],[0.8888888888888888,\"#fdca26\"],[1.0,\"#f0f921\"]],\"sequentialminus\":[[0.0,\"#0d0887\"],[0.1111111111111111,\"#46039f\"],[0.2222222222222222,\"#7201a8\"],[0.3333333333333333,\"#9c179e\"],[0.4444444444444444,\"#bd3786\"],[0.5555555555555556,\"#d8576b\"],[0.6666666666666666,\"#ed7953\"],[0.7777777777777778,\"#fb9f3a\"],[0.8888888888888888,\"#fdca26\"],[1.0,\"#f0f921\"]],\"diverging\":[[0,\"#8e0152\"],[0.1,\"#c51b7d\"],[0.2,\"#de77ae\"],[0.3,\"#f1b6da\"],[0.4,\"#fde0ef\"],[0.5,\"#f7f7f7\"],[0.6,\"#e6f5d0\"],[0.7,\"#b8e186\"],[0.8,\"#7fbc41\"],[0.9,\"#4d9221\"],[1,\"#276419\"]]},\"xaxis\":{\"gridcolor\":\"white\",\"linecolor\":\"white\",\"ticks\":\"\",\"title\":{\"standoff\":15},\"zerolinecolor\":\"white\",\"automargin\":true,\"zerolinewidth\":2},\"yaxis\":{\"gridcolor\":\"white\",\"linecolor\":\"white\",\"ticks\":\"\",\"title\":{\"standoff\":15},\"zerolinecolor\":\"white\",\"automargin\":true,\"zerolinewidth\":2},\"scene\":{\"xaxis\":{\"backgroundcolor\":\"#E5ECF6\",\"gridcolor\":\"white\",\"linecolor\":\"white\",\"showbackground\":true,\"ticks\":\"\",\"zerolinecolor\":\"white\",\"gridwidth\":2},\"yaxis\":{\"backgroundcolor\":\"#E5ECF6\",\"gridcolor\":\"white\",\"linecolor\":\"white\",\"showbackground\":true,\"ticks\":\"\",\"zerolinecolor\":\"white\",\"gridwidth\":2},\"zaxis\":{\"backgroundcolor\":\"#E5ECF6\",\"gridcolor\":\"white\",\"linecolor\":\"white\",\"showbackground\":true,\"ticks\":\"\",\"zerolinecolor\":\"white\",\"gridwidth\":2}},\"shapedefaults\":{\"line\":{\"color\":\"#2a3f5f\"}},\"annotationdefaults\":{\"arrowcolor\":\"#2a3f5f\",\"arrowhead\":0,\"arrowwidth\":1},\"geo\":{\"bgcolor\":\"white\",\"landcolor\":\"#E5ECF6\",\"subunitcolor\":\"white\",\"showland\":true,\"showlakes\":true,\"lakecolor\":\"white\"},\"title\":{\"x\":0.05},\"mapbox\":{\"style\":\"light\"}}},\"xaxis\":{\"anchor\":\"y\",\"domain\":[0.0,1.0],\"title\":{\"text\":\"Date\"}},\"yaxis\":{\"anchor\":\"x\",\"domain\":[0.0,1.0],\"title\":{\"text\":\"Number of Scenes\"}},\"legend\":{\"title\":{\"text\":\"variable\"},\"tracegroupgap\":0},\"title\":{\"text\":\"Distribution of scenes over Dates\"},\"barmode\":\"relative\"},                        {\"responsive\": true}                    ).then(function(){\n",
                            "                            \n",
                            "var gd = document.getElementById('0cdc8f54-020c-4127-9ba1-fa696064240b');\n",
                            "var x = new MutationObserver(function (mutations, observer) {{\n",
                            "        var display = window.getComputedStyle(gd).display;\n",
                            "        if (!display || display === 'none') {{\n",
                            "            console.log([gd, 'removed!']);\n",
                            "            Plotly.purge(gd);\n",
                            "            observer.disconnect();\n",
                            "        }}\n",
                            "}});\n",
                            "\n",
                            "// Listen for the removal of the full notebook cells\n",
                            "var notebookContainer = gd.closest('#notebook-container');\n",
                            "if (notebookContainer) {{\n",
                            "    x.observe(notebookContainer, {childList: true});\n",
                            "}}\n",
                            "\n",
                            "// Listen for the clearing of the current output cell\n",
                            "var outputEl = gd.closest('.output');\n",
                            "if (outputEl) {{\n",
                            "    x.observe(outputEl, {childList: true});\n",
                            "}}\n",
                            "\n",
                            "                        })                };                });            </script>        </div>"
                        ]
                    },
                    "metadata": {},
                    "output_type": "display_data"
                }
            ],
            "source": [
                "def count_days(dataset: ChunkedDataset, name: str) -> pd.Series:\n",
                "    timestamps: list = dataset.scenes[\"start_time\"]\n",
                "    dates: np.ndarray = np.array(\n",
                "        [ts.astype('datetime64[ns]') for ts in timestamps])\n",
                "    dates_df: pd.DataFrame = pd.DataFrame(dates, columns=[f\"date_{name}\"])\n",
                "    days_count: pd.Series = dates_df.groupby(dates_df[f'date_{name}'].dt.date)[\n",
                "        f'date_{name}'].count()\n",
                "    return days_count\n",
                "\n",
                "\n",
                "intro_count = count_days(intro_dataset, \"intro\")\n",
                "train1_count = count_days(train1_dataset, \"train1\")\n",
                "trainfull_count = count_days(trainfull_dataset, \"train_full\")\n",
                "\n",
                "merged1 = pd.merge(trainfull_count, train1_count,\n",
                "                   right_index=True, left_index=True, how=\"left\")\n",
                "merged2 = pd.merge(merged1, intro_count,\n",
                "                   right_index=True, left_index=True, how=\"left\")\n",
                "\n",
                "\n",
                "fig = px.bar(merged2, title=\"Distribution of scenes over Dates\", labels={'index': 'Date', 'value':'Number of Scenes'})\n",
                "fig.write_html(\"./res/analysis/dynamic_data/date.html\")\n",
                "fig.show()\n"
            ]
        },
        {
            "cell_type": "markdown",
            "id": "1dad0e6f",
            "metadata": {},
            "source": [
                "### Time Distribution"
            ]
        },
        {
            "cell_type": "code",
            "execution_count": 9,
            "id": "03395c3d",
            "metadata": {
                "title": "Show Distribution of Data over time",
                "vscode": {
                    "languageId": "markdown"
                }
            },
            "outputs": [
                {
                    "data": {
                        "application/vnd.plotly.v1+json": {
                            "config": {
                                "plotlyServerURL": "https://plot.ly"
                            },
                            "data": [
                                {
                                    "alignmentgroup": "True",
                                    "hovertemplate": "variable=time_train_full<br>Time=%{x}<br>Number of Scenes=%{y}<extra></extra>",
                                    "legendgroup": "time_train_full",
                                    "marker": {
                                        "color": "#636efa",
                                        "pattern": {
                                            "shape": ""
                                        }
                                    },
                                    "name": "time_train_full",
                                    "offsetgroup": "time_train_full",
                                    "orientation": "v",
                                    "showlegend": true,
                                    "textposition": "auto",
                                    "type": "bar",
                                    "x": [
                                        "07:00:00",
                                        "08:00:00",
                                        "09:00:00",
                                        "10:00:00",
                                        "11:00:00",
                                        "12:00:00",
                                        "13:00:00",
                                        "14:00:00",
                                        "15:00:00",
                                        "16:00:00",
                                        "17:00:00",
                                        "18:00:00",
                                        "19:00:00"
                                    ],
                                    "xaxis": "x",
                                    "y": [
                                        130,
                                        1250,
                                        12342,
                                        23038,
                                        20816,
                                        15565,
                                        8248,
                                        21209,
                                        17740,
                                        12876,
                                        904,
                                        425,
                                        79
                                    ],
                                    "yaxis": "y"
                                },
                                {
                                    "alignmentgroup": "True",
                                    "hovertemplate": "variable=time_train1<br>Time=%{x}<br>Number of Scenes=%{y}<extra></extra>",
                                    "legendgroup": "time_train1",
                                    "marker": {
                                        "color": "#EF553B",
                                        "pattern": {
                                            "shape": ""
                                        }
                                    },
                                    "name": "time_train1",
                                    "offsetgroup": "time_train1",
                                    "orientation": "v",
                                    "showlegend": true,
                                    "textposition": "auto",
                                    "type": "bar",
                                    "x": [
                                        "07:00:00",
                                        "08:00:00",
                                        "09:00:00",
                                        "10:00:00",
                                        "11:00:00",
                                        "12:00:00",
                                        "13:00:00",
                                        "14:00:00",
                                        "15:00:00",
                                        "16:00:00",
                                        "17:00:00",
                                        "18:00:00",
                                        "19:00:00"
                                    ],
                                    "xaxis": "x",
                                    "y": [
                                        null,
                                        104,
                                        1568,
                                        2522,
                                        2210,
                                        1932,
                                        916,
                                        2732,
                                        2232,
                                        2009,
                                        7,
                                        33,
                                        null
                                    ],
                                    "yaxis": "y"
                                },
                                {
                                    "alignmentgroup": "True",
                                    "hovertemplate": "variable=time_intro<br>Time=%{x}<br>Number of Scenes=%{y}<extra></extra>",
                                    "legendgroup": "time_intro",
                                    "marker": {
                                        "color": "#00cc96",
                                        "pattern": {
                                            "shape": ""
                                        }
                                    },
                                    "name": "time_intro",
                                    "offsetgroup": "time_intro",
                                    "orientation": "v",
                                    "showlegend": true,
                                    "textposition": "auto",
                                    "type": "bar",
                                    "x": [
                                        "07:00:00",
                                        "08:00:00",
                                        "09:00:00",
                                        "10:00:00",
                                        "11:00:00",
                                        "12:00:00",
                                        "13:00:00",
                                        "14:00:00",
                                        "15:00:00",
                                        "16:00:00",
                                        "17:00:00",
                                        "18:00:00",
                                        "19:00:00"
                                    ],
                                    "xaxis": "x",
                                    "y": [
                                        null,
                                        17,
                                        null,
                                        null,
                                        null,
                                        null,
                                        11,
                                        72,
                                        null,
                                        null,
                                        null,
                                        null,
                                        null
                                    ],
                                    "yaxis": "y"
                                }
                            ],
                            "layout": {
                                "barmode": "relative",
                                "legend": {
                                    "title": {
                                        "text": "variable"
                                    },
                                    "tracegroupgap": 0
                                },
                                "template": {
                                    "data": {
                                        "bar": [
                                            {
                                                "error_x": {
                                                    "color": "#2a3f5f"
                                                },
                                                "error_y": {
                                                    "color": "#2a3f5f"
                                                },
                                                "marker": {
                                                    "line": {
                                                        "color": "#E5ECF6",
                                                        "width": 0.5
                                                    },
                                                    "pattern": {
                                                        "fillmode": "overlay",
                                                        "size": 10,
                                                        "solidity": 0.2
                                                    }
                                                },
                                                "type": "bar"
                                            }
                                        ],
                                        "barpolar": [
                                            {
                                                "marker": {
                                                    "line": {
                                                        "color": "#E5ECF6",
                                                        "width": 0.5
                                                    },
                                                    "pattern": {
                                                        "fillmode": "overlay",
                                                        "size": 10,
                                                        "solidity": 0.2
                                                    }
                                                },
                                                "type": "barpolar"
                                            }
                                        ],
                                        "carpet": [
                                            {
                                                "aaxis": {
                                                    "endlinecolor": "#2a3f5f",
                                                    "gridcolor": "white",
                                                    "linecolor": "white",
                                                    "minorgridcolor": "white",
                                                    "startlinecolor": "#2a3f5f"
                                                },
                                                "baxis": {
                                                    "endlinecolor": "#2a3f5f",
                                                    "gridcolor": "white",
                                                    "linecolor": "white",
                                                    "minorgridcolor": "white",
                                                    "startlinecolor": "#2a3f5f"
                                                },
                                                "type": "carpet"
                                            }
                                        ],
                                        "choropleth": [
                                            {
                                                "colorbar": {
                                                    "outlinewidth": 0,
                                                    "ticks": ""
                                                },
                                                "type": "choropleth"
                                            }
                                        ],
                                        "contour": [
                                            {
                                                "colorbar": {
                                                    "outlinewidth": 0,
                                                    "ticks": ""
                                                },
                                                "colorscale": [
                                                    [
                                                        0,
                                                        "#0d0887"
                                                    ],
                                                    [
                                                        0.1111111111111111,
                                                        "#46039f"
                                                    ],
                                                    [
                                                        0.2222222222222222,
                                                        "#7201a8"
                                                    ],
                                                    [
                                                        0.3333333333333333,
                                                        "#9c179e"
                                                    ],
                                                    [
                                                        0.4444444444444444,
                                                        "#bd3786"
                                                    ],
                                                    [
                                                        0.5555555555555556,
                                                        "#d8576b"
                                                    ],
                                                    [
                                                        0.6666666666666666,
                                                        "#ed7953"
                                                    ],
                                                    [
                                                        0.7777777777777778,
                                                        "#fb9f3a"
                                                    ],
                                                    [
                                                        0.8888888888888888,
                                                        "#fdca26"
                                                    ],
                                                    [
                                                        1,
                                                        "#f0f921"
                                                    ]
                                                ],
                                                "type": "contour"
                                            }
                                        ],
                                        "contourcarpet": [
                                            {
                                                "colorbar": {
                                                    "outlinewidth": 0,
                                                    "ticks": ""
                                                },
                                                "type": "contourcarpet"
                                            }
                                        ],
                                        "heatmap": [
                                            {
                                                "colorbar": {
                                                    "outlinewidth": 0,
                                                    "ticks": ""
                                                },
                                                "colorscale": [
                                                    [
                                                        0,
                                                        "#0d0887"
                                                    ],
                                                    [
                                                        0.1111111111111111,
                                                        "#46039f"
                                                    ],
                                                    [
                                                        0.2222222222222222,
                                                        "#7201a8"
                                                    ],
                                                    [
                                                        0.3333333333333333,
                                                        "#9c179e"
                                                    ],
                                                    [
                                                        0.4444444444444444,
                                                        "#bd3786"
                                                    ],
                                                    [
                                                        0.5555555555555556,
                                                        "#d8576b"
                                                    ],
                                                    [
                                                        0.6666666666666666,
                                                        "#ed7953"
                                                    ],
                                                    [
                                                        0.7777777777777778,
                                                        "#fb9f3a"
                                                    ],
                                                    [
                                                        0.8888888888888888,
                                                        "#fdca26"
                                                    ],
                                                    [
                                                        1,
                                                        "#f0f921"
                                                    ]
                                                ],
                                                "type": "heatmap"
                                            }
                                        ],
                                        "heatmapgl": [
                                            {
                                                "colorbar": {
                                                    "outlinewidth": 0,
                                                    "ticks": ""
                                                },
                                                "colorscale": [
                                                    [
                                                        0,
                                                        "#0d0887"
                                                    ],
                                                    [
                                                        0.1111111111111111,
                                                        "#46039f"
                                                    ],
                                                    [
                                                        0.2222222222222222,
                                                        "#7201a8"
                                                    ],
                                                    [
                                                        0.3333333333333333,
                                                        "#9c179e"
                                                    ],
                                                    [
                                                        0.4444444444444444,
                                                        "#bd3786"
                                                    ],
                                                    [
                                                        0.5555555555555556,
                                                        "#d8576b"
                                                    ],
                                                    [
                                                        0.6666666666666666,
                                                        "#ed7953"
                                                    ],
                                                    [
                                                        0.7777777777777778,
                                                        "#fb9f3a"
                                                    ],
                                                    [
                                                        0.8888888888888888,
                                                        "#fdca26"
                                                    ],
                                                    [
                                                        1,
                                                        "#f0f921"
                                                    ]
                                                ],
                                                "type": "heatmapgl"
                                            }
                                        ],
                                        "histogram": [
                                            {
                                                "marker": {
                                                    "pattern": {
                                                        "fillmode": "overlay",
                                                        "size": 10,
                                                        "solidity": 0.2
                                                    }
                                                },
                                                "type": "histogram"
                                            }
                                        ],
                                        "histogram2d": [
                                            {
                                                "colorbar": {
                                                    "outlinewidth": 0,
                                                    "ticks": ""
                                                },
                                                "colorscale": [
                                                    [
                                                        0,
                                                        "#0d0887"
                                                    ],
                                                    [
                                                        0.1111111111111111,
                                                        "#46039f"
                                                    ],
                                                    [
                                                        0.2222222222222222,
                                                        "#7201a8"
                                                    ],
                                                    [
                                                        0.3333333333333333,
                                                        "#9c179e"
                                                    ],
                                                    [
                                                        0.4444444444444444,
                                                        "#bd3786"
                                                    ],
                                                    [
                                                        0.5555555555555556,
                                                        "#d8576b"
                                                    ],
                                                    [
                                                        0.6666666666666666,
                                                        "#ed7953"
                                                    ],
                                                    [
                                                        0.7777777777777778,
                                                        "#fb9f3a"
                                                    ],
                                                    [
                                                        0.8888888888888888,
                                                        "#fdca26"
                                                    ],
                                                    [
                                                        1,
                                                        "#f0f921"
                                                    ]
                                                ],
                                                "type": "histogram2d"
                                            }
                                        ],
                                        "histogram2dcontour": [
                                            {
                                                "colorbar": {
                                                    "outlinewidth": 0,
                                                    "ticks": ""
                                                },
                                                "colorscale": [
                                                    [
                                                        0,
                                                        "#0d0887"
                                                    ],
                                                    [
                                                        0.1111111111111111,
                                                        "#46039f"
                                                    ],
                                                    [
                                                        0.2222222222222222,
                                                        "#7201a8"
                                                    ],
                                                    [
                                                        0.3333333333333333,
                                                        "#9c179e"
                                                    ],
                                                    [
                                                        0.4444444444444444,
                                                        "#bd3786"
                                                    ],
                                                    [
                                                        0.5555555555555556,
                                                        "#d8576b"
                                                    ],
                                                    [
                                                        0.6666666666666666,
                                                        "#ed7953"
                                                    ],
                                                    [
                                                        0.7777777777777778,
                                                        "#fb9f3a"
                                                    ],
                                                    [
                                                        0.8888888888888888,
                                                        "#fdca26"
                                                    ],
                                                    [
                                                        1,
                                                        "#f0f921"
                                                    ]
                                                ],
                                                "type": "histogram2dcontour"
                                            }
                                        ],
                                        "mesh3d": [
                                            {
                                                "colorbar": {
                                                    "outlinewidth": 0,
                                                    "ticks": ""
                                                },
                                                "type": "mesh3d"
                                            }
                                        ],
                                        "parcoords": [
                                            {
                                                "line": {
                                                    "colorbar": {
                                                        "outlinewidth": 0,
                                                        "ticks": ""
                                                    }
                                                },
                                                "type": "parcoords"
                                            }
                                        ],
                                        "pie": [
                                            {
                                                "automargin": true,
                                                "type": "pie"
                                            }
                                        ],
                                        "scatter": [
                                            {
                                                "fillpattern": {
                                                    "fillmode": "overlay",
                                                    "size": 10,
                                                    "solidity": 0.2
                                                },
                                                "type": "scatter"
                                            }
                                        ],
                                        "scatter3d": [
                                            {
                                                "line": {
                                                    "colorbar": {
                                                        "outlinewidth": 0,
                                                        "ticks": ""
                                                    }
                                                },
                                                "marker": {
                                                    "colorbar": {
                                                        "outlinewidth": 0,
                                                        "ticks": ""
                                                    }
                                                },
                                                "type": "scatter3d"
                                            }
                                        ],
                                        "scattercarpet": [
                                            {
                                                "marker": {
                                                    "colorbar": {
                                                        "outlinewidth": 0,
                                                        "ticks": ""
                                                    }
                                                },
                                                "type": "scattercarpet"
                                            }
                                        ],
                                        "scattergeo": [
                                            {
                                                "marker": {
                                                    "colorbar": {
                                                        "outlinewidth": 0,
                                                        "ticks": ""
                                                    }
                                                },
                                                "type": "scattergeo"
                                            }
                                        ],
                                        "scattergl": [
                                            {
                                                "marker": {
                                                    "colorbar": {
                                                        "outlinewidth": 0,
                                                        "ticks": ""
                                                    }
                                                },
                                                "type": "scattergl"
                                            }
                                        ],
                                        "scattermapbox": [
                                            {
                                                "marker": {
                                                    "colorbar": {
                                                        "outlinewidth": 0,
                                                        "ticks": ""
                                                    }
                                                },
                                                "type": "scattermapbox"
                                            }
                                        ],
                                        "scatterpolar": [
                                            {
                                                "marker": {
                                                    "colorbar": {
                                                        "outlinewidth": 0,
                                                        "ticks": ""
                                                    }
                                                },
                                                "type": "scatterpolar"
                                            }
                                        ],
                                        "scatterpolargl": [
                                            {
                                                "marker": {
                                                    "colorbar": {
                                                        "outlinewidth": 0,
                                                        "ticks": ""
                                                    }
                                                },
                                                "type": "scatterpolargl"
                                            }
                                        ],
                                        "scatterternary": [
                                            {
                                                "marker": {
                                                    "colorbar": {
                                                        "outlinewidth": 0,
                                                        "ticks": ""
                                                    }
                                                },
                                                "type": "scatterternary"
                                            }
                                        ],
                                        "surface": [
                                            {
                                                "colorbar": {
                                                    "outlinewidth": 0,
                                                    "ticks": ""
                                                },
                                                "colorscale": [
                                                    [
                                                        0,
                                                        "#0d0887"
                                                    ],
                                                    [
                                                        0.1111111111111111,
                                                        "#46039f"
                                                    ],
                                                    [
                                                        0.2222222222222222,
                                                        "#7201a8"
                                                    ],
                                                    [
                                                        0.3333333333333333,
                                                        "#9c179e"
                                                    ],
                                                    [
                                                        0.4444444444444444,
                                                        "#bd3786"
                                                    ],
                                                    [
                                                        0.5555555555555556,
                                                        "#d8576b"
                                                    ],
                                                    [
                                                        0.6666666666666666,
                                                        "#ed7953"
                                                    ],
                                                    [
                                                        0.7777777777777778,
                                                        "#fb9f3a"
                                                    ],
                                                    [
                                                        0.8888888888888888,
                                                        "#fdca26"
                                                    ],
                                                    [
                                                        1,
                                                        "#f0f921"
                                                    ]
                                                ],
                                                "type": "surface"
                                            }
                                        ],
                                        "table": [
                                            {
                                                "cells": {
                                                    "fill": {
                                                        "color": "#EBF0F8"
                                                    },
                                                    "line": {
                                                        "color": "white"
                                                    }
                                                },
                                                "header": {
                                                    "fill": {
                                                        "color": "#C8D4E3"
                                                    },
                                                    "line": {
                                                        "color": "white"
                                                    }
                                                },
                                                "type": "table"
                                            }
                                        ]
                                    },
                                    "layout": {
                                        "annotationdefaults": {
                                            "arrowcolor": "#2a3f5f",
                                            "arrowhead": 0,
                                            "arrowwidth": 1
                                        },
                                        "autotypenumbers": "strict",
                                        "coloraxis": {
                                            "colorbar": {
                                                "outlinewidth": 0,
                                                "ticks": ""
                                            }
                                        },
                                        "colorscale": {
                                            "diverging": [
                                                [
                                                    0,
                                                    "#8e0152"
                                                ],
                                                [
                                                    0.1,
                                                    "#c51b7d"
                                                ],
                                                [
                                                    0.2,
                                                    "#de77ae"
                                                ],
                                                [
                                                    0.3,
                                                    "#f1b6da"
                                                ],
                                                [
                                                    0.4,
                                                    "#fde0ef"
                                                ],
                                                [
                                                    0.5,
                                                    "#f7f7f7"
                                                ],
                                                [
                                                    0.6,
                                                    "#e6f5d0"
                                                ],
                                                [
                                                    0.7,
                                                    "#b8e186"
                                                ],
                                                [
                                                    0.8,
                                                    "#7fbc41"
                                                ],
                                                [
                                                    0.9,
                                                    "#4d9221"
                                                ],
                                                [
                                                    1,
                                                    "#276419"
                                                ]
                                            ],
                                            "sequential": [
                                                [
                                                    0,
                                                    "#0d0887"
                                                ],
                                                [
                                                    0.1111111111111111,
                                                    "#46039f"
                                                ],
                                                [
                                                    0.2222222222222222,
                                                    "#7201a8"
                                                ],
                                                [
                                                    0.3333333333333333,
                                                    "#9c179e"
                                                ],
                                                [
                                                    0.4444444444444444,
                                                    "#bd3786"
                                                ],
                                                [
                                                    0.5555555555555556,
                                                    "#d8576b"
                                                ],
                                                [
                                                    0.6666666666666666,
                                                    "#ed7953"
                                                ],
                                                [
                                                    0.7777777777777778,
                                                    "#fb9f3a"
                                                ],
                                                [
                                                    0.8888888888888888,
                                                    "#fdca26"
                                                ],
                                                [
                                                    1,
                                                    "#f0f921"
                                                ]
                                            ],
                                            "sequentialminus": [
                                                [
                                                    0,
                                                    "#0d0887"
                                                ],
                                                [
                                                    0.1111111111111111,
                                                    "#46039f"
                                                ],
                                                [
                                                    0.2222222222222222,
                                                    "#7201a8"
                                                ],
                                                [
                                                    0.3333333333333333,
                                                    "#9c179e"
                                                ],
                                                [
                                                    0.4444444444444444,
                                                    "#bd3786"
                                                ],
                                                [
                                                    0.5555555555555556,
                                                    "#d8576b"
                                                ],
                                                [
                                                    0.6666666666666666,
                                                    "#ed7953"
                                                ],
                                                [
                                                    0.7777777777777778,
                                                    "#fb9f3a"
                                                ],
                                                [
                                                    0.8888888888888888,
                                                    "#fdca26"
                                                ],
                                                [
                                                    1,
                                                    "#f0f921"
                                                ]
                                            ]
                                        },
                                        "colorway": [
                                            "#636efa",
                                            "#EF553B",
                                            "#00cc96",
                                            "#ab63fa",
                                            "#FFA15A",
                                            "#19d3f3",
                                            "#FF6692",
                                            "#B6E880",
                                            "#FF97FF",
                                            "#FECB52"
                                        ],
                                        "font": {
                                            "color": "#2a3f5f"
                                        },
                                        "geo": {
                                            "bgcolor": "white",
                                            "lakecolor": "white",
                                            "landcolor": "#E5ECF6",
                                            "showlakes": true,
                                            "showland": true,
                                            "subunitcolor": "white"
                                        },
                                        "hoverlabel": {
                                            "align": "left"
                                        },
                                        "hovermode": "closest",
                                        "mapbox": {
                                            "style": "light"
                                        },
                                        "paper_bgcolor": "white",
                                        "plot_bgcolor": "#E5ECF6",
                                        "polar": {
                                            "angularaxis": {
                                                "gridcolor": "white",
                                                "linecolor": "white",
                                                "ticks": ""
                                            },
                                            "bgcolor": "#E5ECF6",
                                            "radialaxis": {
                                                "gridcolor": "white",
                                                "linecolor": "white",
                                                "ticks": ""
                                            }
                                        },
                                        "scene": {
                                            "xaxis": {
                                                "backgroundcolor": "#E5ECF6",
                                                "gridcolor": "white",
                                                "gridwidth": 2,
                                                "linecolor": "white",
                                                "showbackground": true,
                                                "ticks": "",
                                                "zerolinecolor": "white"
                                            },
                                            "yaxis": {
                                                "backgroundcolor": "#E5ECF6",
                                                "gridcolor": "white",
                                                "gridwidth": 2,
                                                "linecolor": "white",
                                                "showbackground": true,
                                                "ticks": "",
                                                "zerolinecolor": "white"
                                            },
                                            "zaxis": {
                                                "backgroundcolor": "#E5ECF6",
                                                "gridcolor": "white",
                                                "gridwidth": 2,
                                                "linecolor": "white",
                                                "showbackground": true,
                                                "ticks": "",
                                                "zerolinecolor": "white"
                                            }
                                        },
                                        "shapedefaults": {
                                            "line": {
                                                "color": "#2a3f5f"
                                            }
                                        },
                                        "ternary": {
                                            "aaxis": {
                                                "gridcolor": "white",
                                                "linecolor": "white",
                                                "ticks": ""
                                            },
                                            "baxis": {
                                                "gridcolor": "white",
                                                "linecolor": "white",
                                                "ticks": ""
                                            },
                                            "bgcolor": "#E5ECF6",
                                            "caxis": {
                                                "gridcolor": "white",
                                                "linecolor": "white",
                                                "ticks": ""
                                            }
                                        },
                                        "title": {
                                            "x": 0.05
                                        },
                                        "xaxis": {
                                            "automargin": true,
                                            "gridcolor": "white",
                                            "linecolor": "white",
                                            "ticks": "",
                                            "title": {
                                                "standoff": 15
                                            },
                                            "zerolinecolor": "white",
                                            "zerolinewidth": 2
                                        },
                                        "yaxis": {
                                            "automargin": true,
                                            "gridcolor": "white",
                                            "linecolor": "white",
                                            "ticks": "",
                                            "title": {
                                                "standoff": 15
                                            },
                                            "zerolinecolor": "white",
                                            "zerolinewidth": 2
                                        }
                                    }
                                },
                                "title": {
                                    "text": "Distribution of scenes over Time"
                                },
                                "xaxis": {
                                    "anchor": "y",
                                    "domain": [
                                        0,
                                        1
                                    ],
                                    "title": {
                                        "text": "Time"
                                    }
                                },
                                "yaxis": {
                                    "anchor": "x",
                                    "domain": [
                                        0,
                                        1
                                    ],
                                    "title": {
                                        "text": "Number of Scenes"
                                    }
                                }
                            }
                        },
                        "text/html": [
                            "<div>                            <div id=\"c37501d2-2fb8-4f07-9cb8-390a815ceb2a\" class=\"plotly-graph-div\" style=\"height:525px; width:100%;\"></div>            <script type=\"text/javascript\">                require([\"plotly\"], function(Plotly) {                    window.PLOTLYENV=window.PLOTLYENV || {};                                    if (document.getElementById(\"c37501d2-2fb8-4f07-9cb8-390a815ceb2a\")) {                    Plotly.newPlot(                        \"c37501d2-2fb8-4f07-9cb8-390a815ceb2a\",                        [{\"alignmentgroup\":\"True\",\"hovertemplate\":\"variable=time_train_full<br>Time=%{x}<br>Number of Scenes=%{y}<extra></extra>\",\"legendgroup\":\"time_train_full\",\"marker\":{\"color\":\"#636efa\",\"pattern\":{\"shape\":\"\"}},\"name\":\"time_train_full\",\"offsetgroup\":\"time_train_full\",\"orientation\":\"v\",\"showlegend\":true,\"textposition\":\"auto\",\"x\":[\"07:00:00\",\"08:00:00\",\"09:00:00\",\"10:00:00\",\"11:00:00\",\"12:00:00\",\"13:00:00\",\"14:00:00\",\"15:00:00\",\"16:00:00\",\"17:00:00\",\"18:00:00\",\"19:00:00\"],\"xaxis\":\"x\",\"y\":[130.0,1250.0,12342.0,23038.0,20816.0,15565.0,8248.0,21209.0,17740.0,12876.0,904.0,425.0,79.0],\"yaxis\":\"y\",\"type\":\"bar\"},{\"alignmentgroup\":\"True\",\"hovertemplate\":\"variable=time_train1<br>Time=%{x}<br>Number of Scenes=%{y}<extra></extra>\",\"legendgroup\":\"time_train1\",\"marker\":{\"color\":\"#EF553B\",\"pattern\":{\"shape\":\"\"}},\"name\":\"time_train1\",\"offsetgroup\":\"time_train1\",\"orientation\":\"v\",\"showlegend\":true,\"textposition\":\"auto\",\"x\":[\"07:00:00\",\"08:00:00\",\"09:00:00\",\"10:00:00\",\"11:00:00\",\"12:00:00\",\"13:00:00\",\"14:00:00\",\"15:00:00\",\"16:00:00\",\"17:00:00\",\"18:00:00\",\"19:00:00\"],\"xaxis\":\"x\",\"y\":[null,104.0,1568.0,2522.0,2210.0,1932.0,916.0,2732.0,2232.0,2009.0,7.0,33.0,null],\"yaxis\":\"y\",\"type\":\"bar\"},{\"alignmentgroup\":\"True\",\"hovertemplate\":\"variable=time_intro<br>Time=%{x}<br>Number of Scenes=%{y}<extra></extra>\",\"legendgroup\":\"time_intro\",\"marker\":{\"color\":\"#00cc96\",\"pattern\":{\"shape\":\"\"}},\"name\":\"time_intro\",\"offsetgroup\":\"time_intro\",\"orientation\":\"v\",\"showlegend\":true,\"textposition\":\"auto\",\"x\":[\"07:00:00\",\"08:00:00\",\"09:00:00\",\"10:00:00\",\"11:00:00\",\"12:00:00\",\"13:00:00\",\"14:00:00\",\"15:00:00\",\"16:00:00\",\"17:00:00\",\"18:00:00\",\"19:00:00\"],\"xaxis\":\"x\",\"y\":[null,17.0,null,null,null,null,11.0,72.0,null,null,null,null,null],\"yaxis\":\"y\",\"type\":\"bar\"}],                        {\"template\":{\"data\":{\"histogram2dcontour\":[{\"type\":\"histogram2dcontour\",\"colorbar\":{\"outlinewidth\":0,\"ticks\":\"\"},\"colorscale\":[[0.0,\"#0d0887\"],[0.1111111111111111,\"#46039f\"],[0.2222222222222222,\"#7201a8\"],[0.3333333333333333,\"#9c179e\"],[0.4444444444444444,\"#bd3786\"],[0.5555555555555556,\"#d8576b\"],[0.6666666666666666,\"#ed7953\"],[0.7777777777777778,\"#fb9f3a\"],[0.8888888888888888,\"#fdca26\"],[1.0,\"#f0f921\"]]}],\"choropleth\":[{\"type\":\"choropleth\",\"colorbar\":{\"outlinewidth\":0,\"ticks\":\"\"}}],\"histogram2d\":[{\"type\":\"histogram2d\",\"colorbar\":{\"outlinewidth\":0,\"ticks\":\"\"},\"colorscale\":[[0.0,\"#0d0887\"],[0.1111111111111111,\"#46039f\"],[0.2222222222222222,\"#7201a8\"],[0.3333333333333333,\"#9c179e\"],[0.4444444444444444,\"#bd3786\"],[0.5555555555555556,\"#d8576b\"],[0.6666666666666666,\"#ed7953\"],[0.7777777777777778,\"#fb9f3a\"],[0.8888888888888888,\"#fdca26\"],[1.0,\"#f0f921\"]]}],\"heatmap\":[{\"type\":\"heatmap\",\"colorbar\":{\"outlinewidth\":0,\"ticks\":\"\"},\"colorscale\":[[0.0,\"#0d0887\"],[0.1111111111111111,\"#46039f\"],[0.2222222222222222,\"#7201a8\"],[0.3333333333333333,\"#9c179e\"],[0.4444444444444444,\"#bd3786\"],[0.5555555555555556,\"#d8576b\"],[0.6666666666666666,\"#ed7953\"],[0.7777777777777778,\"#fb9f3a\"],[0.8888888888888888,\"#fdca26\"],[1.0,\"#f0f921\"]]}],\"heatmapgl\":[{\"type\":\"heatmapgl\",\"colorbar\":{\"outlinewidth\":0,\"ticks\":\"\"},\"colorscale\":[[0.0,\"#0d0887\"],[0.1111111111111111,\"#46039f\"],[0.2222222222222222,\"#7201a8\"],[0.3333333333333333,\"#9c179e\"],[0.4444444444444444,\"#bd3786\"],[0.5555555555555556,\"#d8576b\"],[0.6666666666666666,\"#ed7953\"],[0.7777777777777778,\"#fb9f3a\"],[0.8888888888888888,\"#fdca26\"],[1.0,\"#f0f921\"]]}],\"contourcarpet\":[{\"type\":\"contourcarpet\",\"colorbar\":{\"outlinewidth\":0,\"ticks\":\"\"}}],\"contour\":[{\"type\":\"contour\",\"colorbar\":{\"outlinewidth\":0,\"ticks\":\"\"},\"colorscale\":[[0.0,\"#0d0887\"],[0.1111111111111111,\"#46039f\"],[0.2222222222222222,\"#7201a8\"],[0.3333333333333333,\"#9c179e\"],[0.4444444444444444,\"#bd3786\"],[0.5555555555555556,\"#d8576b\"],[0.6666666666666666,\"#ed7953\"],[0.7777777777777778,\"#fb9f3a\"],[0.8888888888888888,\"#fdca26\"],[1.0,\"#f0f921\"]]}],\"surface\":[{\"type\":\"surface\",\"colorbar\":{\"outlinewidth\":0,\"ticks\":\"\"},\"colorscale\":[[0.0,\"#0d0887\"],[0.1111111111111111,\"#46039f\"],[0.2222222222222222,\"#7201a8\"],[0.3333333333333333,\"#9c179e\"],[0.4444444444444444,\"#bd3786\"],[0.5555555555555556,\"#d8576b\"],[0.6666666666666666,\"#ed7953\"],[0.7777777777777778,\"#fb9f3a\"],[0.8888888888888888,\"#fdca26\"],[1.0,\"#f0f921\"]]}],\"mesh3d\":[{\"type\":\"mesh3d\",\"colorbar\":{\"outlinewidth\":0,\"ticks\":\"\"}}],\"scatter\":[{\"fillpattern\":{\"fillmode\":\"overlay\",\"size\":10,\"solidity\":0.2},\"type\":\"scatter\"}],\"parcoords\":[{\"type\":\"parcoords\",\"line\":{\"colorbar\":{\"outlinewidth\":0,\"ticks\":\"\"}}}],\"scatterpolargl\":[{\"type\":\"scatterpolargl\",\"marker\":{\"colorbar\":{\"outlinewidth\":0,\"ticks\":\"\"}}}],\"bar\":[{\"error_x\":{\"color\":\"#2a3f5f\"},\"error_y\":{\"color\":\"#2a3f5f\"},\"marker\":{\"line\":{\"color\":\"#E5ECF6\",\"width\":0.5},\"pattern\":{\"fillmode\":\"overlay\",\"size\":10,\"solidity\":0.2}},\"type\":\"bar\"}],\"scattergeo\":[{\"type\":\"scattergeo\",\"marker\":{\"colorbar\":{\"outlinewidth\":0,\"ticks\":\"\"}}}],\"scatterpolar\":[{\"type\":\"scatterpolar\",\"marker\":{\"colorbar\":{\"outlinewidth\":0,\"ticks\":\"\"}}}],\"histogram\":[{\"marker\":{\"pattern\":{\"fillmode\":\"overlay\",\"size\":10,\"solidity\":0.2}},\"type\":\"histogram\"}],\"scattergl\":[{\"type\":\"scattergl\",\"marker\":{\"colorbar\":{\"outlinewidth\":0,\"ticks\":\"\"}}}],\"scatter3d\":[{\"type\":\"scatter3d\",\"line\":{\"colorbar\":{\"outlinewidth\":0,\"ticks\":\"\"}},\"marker\":{\"colorbar\":{\"outlinewidth\":0,\"ticks\":\"\"}}}],\"scattermapbox\":[{\"type\":\"scattermapbox\",\"marker\":{\"colorbar\":{\"outlinewidth\":0,\"ticks\":\"\"}}}],\"scatterternary\":[{\"type\":\"scatterternary\",\"marker\":{\"colorbar\":{\"outlinewidth\":0,\"ticks\":\"\"}}}],\"scattercarpet\":[{\"type\":\"scattercarpet\",\"marker\":{\"colorbar\":{\"outlinewidth\":0,\"ticks\":\"\"}}}],\"carpet\":[{\"aaxis\":{\"endlinecolor\":\"#2a3f5f\",\"gridcolor\":\"white\",\"linecolor\":\"white\",\"minorgridcolor\":\"white\",\"startlinecolor\":\"#2a3f5f\"},\"baxis\":{\"endlinecolor\":\"#2a3f5f\",\"gridcolor\":\"white\",\"linecolor\":\"white\",\"minorgridcolor\":\"white\",\"startlinecolor\":\"#2a3f5f\"},\"type\":\"carpet\"}],\"table\":[{\"cells\":{\"fill\":{\"color\":\"#EBF0F8\"},\"line\":{\"color\":\"white\"}},\"header\":{\"fill\":{\"color\":\"#C8D4E3\"},\"line\":{\"color\":\"white\"}},\"type\":\"table\"}],\"barpolar\":[{\"marker\":{\"line\":{\"color\":\"#E5ECF6\",\"width\":0.5},\"pattern\":{\"fillmode\":\"overlay\",\"size\":10,\"solidity\":0.2}},\"type\":\"barpolar\"}],\"pie\":[{\"automargin\":true,\"type\":\"pie\"}]},\"layout\":{\"autotypenumbers\":\"strict\",\"colorway\":[\"#636efa\",\"#EF553B\",\"#00cc96\",\"#ab63fa\",\"#FFA15A\",\"#19d3f3\",\"#FF6692\",\"#B6E880\",\"#FF97FF\",\"#FECB52\"],\"font\":{\"color\":\"#2a3f5f\"},\"hovermode\":\"closest\",\"hoverlabel\":{\"align\":\"left\"},\"paper_bgcolor\":\"white\",\"plot_bgcolor\":\"#E5ECF6\",\"polar\":{\"bgcolor\":\"#E5ECF6\",\"angularaxis\":{\"gridcolor\":\"white\",\"linecolor\":\"white\",\"ticks\":\"\"},\"radialaxis\":{\"gridcolor\":\"white\",\"linecolor\":\"white\",\"ticks\":\"\"}},\"ternary\":{\"bgcolor\":\"#E5ECF6\",\"aaxis\":{\"gridcolor\":\"white\",\"linecolor\":\"white\",\"ticks\":\"\"},\"baxis\":{\"gridcolor\":\"white\",\"linecolor\":\"white\",\"ticks\":\"\"},\"caxis\":{\"gridcolor\":\"white\",\"linecolor\":\"white\",\"ticks\":\"\"}},\"coloraxis\":{\"colorbar\":{\"outlinewidth\":0,\"ticks\":\"\"}},\"colorscale\":{\"sequential\":[[0.0,\"#0d0887\"],[0.1111111111111111,\"#46039f\"],[0.2222222222222222,\"#7201a8\"],[0.3333333333333333,\"#9c179e\"],[0.4444444444444444,\"#bd3786\"],[0.5555555555555556,\"#d8576b\"],[0.6666666666666666,\"#ed7953\"],[0.7777777777777778,\"#fb9f3a\"],[0.8888888888888888,\"#fdca26\"],[1.0,\"#f0f921\"]],\"sequentialminus\":[[0.0,\"#0d0887\"],[0.1111111111111111,\"#46039f\"],[0.2222222222222222,\"#7201a8\"],[0.3333333333333333,\"#9c179e\"],[0.4444444444444444,\"#bd3786\"],[0.5555555555555556,\"#d8576b\"],[0.6666666666666666,\"#ed7953\"],[0.7777777777777778,\"#fb9f3a\"],[0.8888888888888888,\"#fdca26\"],[1.0,\"#f0f921\"]],\"diverging\":[[0,\"#8e0152\"],[0.1,\"#c51b7d\"],[0.2,\"#de77ae\"],[0.3,\"#f1b6da\"],[0.4,\"#fde0ef\"],[0.5,\"#f7f7f7\"],[0.6,\"#e6f5d0\"],[0.7,\"#b8e186\"],[0.8,\"#7fbc41\"],[0.9,\"#4d9221\"],[1,\"#276419\"]]},\"xaxis\":{\"gridcolor\":\"white\",\"linecolor\":\"white\",\"ticks\":\"\",\"title\":{\"standoff\":15},\"zerolinecolor\":\"white\",\"automargin\":true,\"zerolinewidth\":2},\"yaxis\":{\"gridcolor\":\"white\",\"linecolor\":\"white\",\"ticks\":\"\",\"title\":{\"standoff\":15},\"zerolinecolor\":\"white\",\"automargin\":true,\"zerolinewidth\":2},\"scene\":{\"xaxis\":{\"backgroundcolor\":\"#E5ECF6\",\"gridcolor\":\"white\",\"linecolor\":\"white\",\"showbackground\":true,\"ticks\":\"\",\"zerolinecolor\":\"white\",\"gridwidth\":2},\"yaxis\":{\"backgroundcolor\":\"#E5ECF6\",\"gridcolor\":\"white\",\"linecolor\":\"white\",\"showbackground\":true,\"ticks\":\"\",\"zerolinecolor\":\"white\",\"gridwidth\":2},\"zaxis\":{\"backgroundcolor\":\"#E5ECF6\",\"gridcolor\":\"white\",\"linecolor\":\"white\",\"showbackground\":true,\"ticks\":\"\",\"zerolinecolor\":\"white\",\"gridwidth\":2}},\"shapedefaults\":{\"line\":{\"color\":\"#2a3f5f\"}},\"annotationdefaults\":{\"arrowcolor\":\"#2a3f5f\",\"arrowhead\":0,\"arrowwidth\":1},\"geo\":{\"bgcolor\":\"white\",\"landcolor\":\"#E5ECF6\",\"subunitcolor\":\"white\",\"showland\":true,\"showlakes\":true,\"lakecolor\":\"white\"},\"title\":{\"x\":0.05},\"mapbox\":{\"style\":\"light\"}}},\"xaxis\":{\"anchor\":\"y\",\"domain\":[0.0,1.0],\"title\":{\"text\":\"Time\"}},\"yaxis\":{\"anchor\":\"x\",\"domain\":[0.0,1.0],\"title\":{\"text\":\"Number of Scenes\"}},\"legend\":{\"title\":{\"text\":\"variable\"},\"tracegroupgap\":0},\"title\":{\"text\":\"Distribution of scenes over Time\"},\"barmode\":\"relative\"},                        {\"responsive\": true}                    ).then(function(){\n",
                            "                            \n",
                            "var gd = document.getElementById('c37501d2-2fb8-4f07-9cb8-390a815ceb2a');\n",
                            "var x = new MutationObserver(function (mutations, observer) {{\n",
                            "        var display = window.getComputedStyle(gd).display;\n",
                            "        if (!display || display === 'none') {{\n",
                            "            console.log([gd, 'removed!']);\n",
                            "            Plotly.purge(gd);\n",
                            "            observer.disconnect();\n",
                            "        }}\n",
                            "}});\n",
                            "\n",
                            "// Listen for the removal of the full notebook cells\n",
                            "var notebookContainer = gd.closest('#notebook-container');\n",
                            "if (notebookContainer) {{\n",
                            "    x.observe(notebookContainer, {childList: true});\n",
                            "}}\n",
                            "\n",
                            "// Listen for the clearing of the current output cell\n",
                            "var outputEl = gd.closest('.output');\n",
                            "if (outputEl) {{\n",
                            "    x.observe(outputEl, {childList: true});\n",
                            "}}\n",
                            "\n",
                            "                        })                };                });            </script>        </div>"
                        ]
                    },
                    "metadata": {},
                    "output_type": "display_data"
                }
            ],
            "source": [
                "def count_time(dataset: ChunkedDataset, name: str) -> pd.Series:\n",
                "    timestamps: list = dataset.scenes[\"start_time\"]\n",
                "    dates: np.ndarray = np.array(\n",
                "        [ts.astype('datetime64[ns]') for ts in timestamps])\n",
                "    dates_df: pd.DataFrame = pd.DataFrame(dates, columns=[f\"time_{name}\"])\n",
                "\n",
                "    dates_df[f\"time_{name}\"] = dates_df[f\"time_{name}\"].apply(lambda x: time(\n",
                "        hour=((x.hour+24-7) % 24)))\n",
                "    days_count: pd.Series = dates_df.groupby(dates_df[f'time_{name}'])[\n",
                "        f'time_{name}'].count()\n",
                "    return days_count\n",
                "\n",
                "intro_count = count_time(intro_dataset, \"intro\")\n",
                "train1_count = count_time(train1_dataset, \"train1\")\n",
                "trainfull_count = count_time(trainfull_dataset, \"train_full\")\n",
                "\n",
                "merged1 = pd.merge(trainfull_count, train1_count,\n",
                "                   right_index=True, left_index=True, how=\"left\")\n",
                "merged2 = pd.merge(merged1, intro_count,\n",
                "                   right_index=True, left_index=True, how=\"left\")\n",
                "\n",
                "fig = px.bar(merged2,\n",
                "             title=\"Distribution of scenes over Time\",\n",
                "             labels={'index': f'Time', 'value':'Number of Scenes'}\n",
                "             )\n",
                "fig.write_html(\"./res/analysis/dynamic_data/date.html\")\n",
                "fig.show()"
            ]
        },
        {
            "cell_type": "code",
            "execution_count": 16,
            "id": "1efc53e0",
            "metadata": {},
            "outputs": [
                {
                    "data": {
                        "image/png": "[encoded data removed]",
                        "text/plain": [
                            "<Figure size 1800x800 with 1 Axes>"
                        ]
                    },
                    "metadata": {},
                    "output_type": "display_data"
                }
            ],
            "source": [
                "# cfg_sample, dm_sample, sample_dataset = init_dataset(\"intro\") # can be done for other datasets as well\n",
                "\n",
                "agents = intro_dataset.agents\n",
                "agents_types = agents.dtype.names\n",
                "\n",
                "probabilities = agents[\"label_probabilities\"]\n",
                "labels_indexes = np.argmax(probabilities, axis=1)\n",
                "counts = []\n",
                "\n",
                "# for idx_label, label in enumerate(tqdm(PERCEPTION_LABELS, desc=\"getting centroid to plot trajectory\")):\n",
                "for idx_label, label in enumerate(PERCEPTION_LABELS):\n",
                "    counts.append(np.sum(labels_indexes == idx_label))\n",
                "\n",
                "field_names = [\"label\", \"counts\"]\n",
                "table = PrettyTable(field_names=field_names)\n",
                "agent_distribution_df = pd.DataFrame(columns=field_names)\n",
                "for label, count in zip(PERCEPTION_LABELS, counts):\n",
                "    row_to_append = [label, count]\n",
                "    table.add_row(row_to_append)\n",
                "    agent_distribution_df.loc[len(agent_distribution_df)] = row_to_append\n",
                "\n",
                "adjusted_agent_distribution_df = agent_distribution_df.copy()\n",
                "adjusted_agent_distribution_df.loc[adjusted_agent_distribution_df[\"counts\"] == 0, \"label\"] = \"OTHER\"\n",
                "\n",
                "\n",
                "def without_hue(ax, total):\n",
                "    for p in ax.patches:\n",
                "        percentage = '{:.1f}%'.format(100 * p.get_height()/total)\n",
                "        x = p.get_x() + p.get_width() / 2 - 0.125\n",
                "        y = p.get_y() + p.get_height()\n",
                "        ax.annotate(percentage, (x, y), size=12)\n",
                "\n",
                "\n",
                "def millions(x, pos):\n",
                "    'The two args are the value and tick position'\n",
                "    return '%1.1fM' % (x * 1e-6)\n",
                "\n",
                "\n",
                "plt.figure(figsize=(18, 8))\n",
                "sns.barplot(y=\"counts\", x=\"label\", data=adjusted_agent_distribution_df)\n",
                "\n",
                "formatter = FuncFormatter(millions)\n",
                "plt.gca().yaxis.set_major_formatter(formatter)\n",
                "without_hue(plt.gca(), agent_distribution_df[\"counts\"].sum())\n",
                "plt.title(\"Distribution of Agents in Sample Dataset\", fontsize=16)\n",
                "plt.rc('xtick', labelsize=12)\n",
                "plt.rc('ytick', labelsize=12)\n",
                "plt.savefig(\"./res/analysis/dynamic_data/distribution_agents_sample.png\")"
            ]
        },
        {
            "cell_type": "markdown",
            "id": "d60cd7cb",
            "metadata": {},
            "source": [
                "## Show Distribution of Traffic Light Scenes"
            ]
        },
        {
            "cell_type": "code",
            "execution_count": 17,
            "id": "024a0860",
            "metadata": {},
            "outputs": [],
            "source": [
                "def filter_tfl_scenes(zarr_dataset: ChunkedDataset) -> list:\n",
                "    scene_idxs_with_tfls = []\n",
                "\n",
                "    for scene_idx in tqdm(range(len(zarr_dataset.scenes)), desc=\"Iterate through scenes to get scene idxs with tfls\"):\n",
                "        current_scene = zarr_dataset.get_scene_dataset(scene_index=scene_idx)\n",
                "\n",
                "        # add scenes with tfls\n",
                "        if len(current_scene.tl_faces) > 0:\n",
                "            scene_idxs_with_tfls.append(scene_idx)\n",
                "\n",
                "    return scene_idxs_with_tfls"
            ]
        },
        {
            "cell_type": "code",
            "execution_count": 18,
            "id": "7a7a9bd6",
            "metadata": {},
            "outputs": [],
            "source": [
                "# Execute for filtering tl_scenes\n",
                "\"\"\"\n",
                "\n",
                "tls_scene_idxs = filter_tfl_scenes(trainfull_dataset)\n",
                "with open('./dataset/preprocessed_info/tls_scene_indices_trainfull.pkl', 'wb') as f:\n",
                "    pickle.dump(tls_scene_idxs, f)\n",
                "\n",
                "\"\"\"\n",
                "\n",
                "\n",
                "# Otherwise if preprocessed read tl_indices\n",
                "with open('./dataset/preprocessed_info/tls_scene_indices_trainfull.pkl', 'rb') as f:\n",
                "    tls_scene_idxs = pickle.load(f)"
            ]
        },
        {
            "cell_type": "code",
            "execution_count": 20,
            "id": "5abfc982",
            "metadata": {},
            "outputs": [
                {
                    "data": {
                        "image/png": "[encoded data removed]",
                        "text/plain": [
                            "<Figure size 1600x800 with 1 Axes>"
                        ]
                    },
                    "metadata": {},
                    "output_type": "display_data"
                }
            ],
            "source": [
                "num_scenes_with_tfls = len(tls_scene_idxs)\n",
                "num_scenes_total = len(trainfull_dataset.scenes)\n",
                "num_scenes_without_tfls = num_scenes_total - len(tls_scene_idxs)\n",
                "tfl_dist_data = [num_scenes_with_tfls, num_scenes_without_tfls]\n",
                "tfl_dist_labels = [\"Traffic Light Scenes\", \"Non Traffic Light Scenes\"]\n",
                "\n",
                "# %%\n",
                "fig, ax = plt.subplots(figsize=(16, 8), subplot_kw=dict(aspect=\"equal\"))\n",
                "\n",
                "\n",
                "def func(pct, allvals):\n",
                "    absolute = int(np.round(pct/100.*np.sum(allvals)))\n",
                "    return \"{:.1f}%\\n({:d})\".format(pct, absolute)\n",
                "\n",
                "\n",
                "wedges, texts, autotexts = ax.pie(tfl_dist_data, autopct=lambda pct: func(pct, tfl_dist_data),\n",
                "                                  textprops=dict(color=\"w\"))\n",
                "ax.legend(wedges, tfl_dist_labels,\n",
                "          title=\"Types\",\n",
                "          loc=\"center left\",\n",
                "          bbox_to_anchor=(0.9, 0, 0.5, 1))\n",
                "plt.setp(autotexts, size=12, weight=\"bold\")\n",
                "ax.set_title(\"Proportion of traffic light scenes\", size=15, weight=\"bold\", y=0.925)\n",
                "plt.figtext(0.47, 0.14, f'Total:{num_scenes_total}',\n",
                "            fontsize=12, weight=\"bold\")\n",
                "plt.show()"
            ]
        },
        {
            "cell_type": "markdown",
            "id": "e272c1c8",
            "metadata": {},
            "source": [
                "## Analyse Traffic Control Elements"
            ]
        },
        {
            "cell_type": "markdown",
            "id": "785fdca6",
            "metadata": {},
            "source": [
                "### Generate MapAPI and JunctionDataset Object"
            ]
        },
        {
            "cell_type": "code",
            "execution_count": 9,
            "id": "910270b9",
            "metadata": {},
            "outputs": [],
            "source": [
                "mapAPI = ExtendedMapAPI.from_config(dm_trainfull, cfg_trainfull)\n",
                "junctionDataset = JunctionDataset(cfg_trainfull, mapAPI, trainfull_dataset)"
            ]
        },
        {
            "cell_type": "markdown",
            "id": "352bdfd3",
            "metadata": {},
            "source": [
                "### Basic Visualisation of Semantic Map"
            ]
        },
        {
            "cell_type": "code",
            "execution_count": 10,
            "id": "58fc1bcb",
            "metadata": {},
            "outputs": [
                {
                    "data": {
                        "image/png": "[encoded data removed]",
                        "text/plain": [
                            "<Figure size 720x720 with 1 Axes>"
                        ]
                    },
                    "metadata": {},
                    "output_type": "display_data"
                }
            ],
            "source": [
                "# Show Map\n",
                "renderer = StaticMapRenderer(mapAPI)\n",
                "fig, ax = renderer.render_lanes()  # grey\n",
                "\n",
                "# red: all trafic control elements\n",
                "fig, ax = renderer.render_traffic_control_elements()\n",
                "fig, ax = renderer.render_traffic_lights()  # green: trafic lights\n",
                "# fig, ax = renderer.render_junctions()  # orange: junctions\n",
                "\n",
                "# Styling\n",
                "lgd_lane = mlines.Line2D([0], [0], color='#474747', label=\"lanes\")\n",
                "lgd_tfe = mlines.Line2D([0], [0], color='#ff0000', label=\"traffic control elements\")\n",
                "lgd_tfl = mlines.Line2D([0], [0], color='#00db04', label=\"traffic lights\")\n",
                "lgd_junctions = mlines.Line2D([0], [0], color='#fcba03', label=\"junctions\")\n",
                "\n",
                "plt.legend(handles=[lgd_lane, \n",
                "                    lgd_tfe, \n",
                "                    lgd_tfl, \n",
                "                    # lgd_junctions\n",
                "                    ])\n",
                "plt.title(\"Visualization of Semantic Map with junctions\")\n",
                "plt.show()"
            ]
        },
        {
            "cell_type": "markdown",
            "id": "68c1b615",
            "metadata": {},
            "source": [
                "### Traffic Lights"
            ]
        },
        {
            "cell_type": "code",
            "execution_count": 11,
            "id": "7f48b718",
            "metadata": {},
            "outputs": [
                {
                    "name": "stdout",
                    "output_type": "stream",
                    "text": [
                        "Number of traffic lights: 211\n"
                    ]
                }
            ],
            "source": [
                "# Number of traffic lights\n",
                "tl_ids = mapAPI.get_tl_bounds()[\"ids\"]\n",
                "print(f\"Number of traffic lights: {len(tl_ids)}\")"
            ]
        },
        {
            "cell_type": "code",
            "execution_count": 12,
            "id": "add46075",
            "metadata": {},
            "outputs": [
                {
                    "name": "stdout",
                    "output_type": "stream",
                    "text": [
                        "Number of traffic light with relations to lanes: 96\n"
                    ]
                }
            ],
            "source": [
                "# Number of traffic lights with relations to lanes \n",
                "tl_with_lane_relations = len(junctionDataset.tl_lane_relations.keys())\n",
                "print(f\"Number of traffic light with relations to lanes: {tl_with_lane_relations}\")"
            ]
        },
        {
            "cell_type": "code",
            "execution_count": 13,
            "id": "34f26289",
            "metadata": {},
            "outputs": [
                {
                    "name": "stdout",
                    "output_type": "stream",
                    "text": [
                        "Number of traffic light to lane segment relations: 567\n"
                    ]
                }
            ],
            "source": [
                "# Number of traffic lights with relations to lane segments \n",
                "lane_segments = junctionDataset.tl_lane_relations.values()\n",
                "lane_segments = [list(lane_segment_set) for lane_segment_set in lane_segments]\n",
                "lane_segments_unpacked = list(itertools.chain.from_iterable(lane_segments))\n",
                "print(f\"Number of traffic light to lane segment relations: {len(lane_segments_unpacked)}\")"
            ]
        },
        {
            "cell_type": "markdown",
            "id": "b50340be",
            "metadata": {},
            "source": [
                "The number of  lane to map segment relations is 567. This can be reasoned because in the semantic map the relation of a traffic light to a lane or more precise to segments of a lane consists of two relations. The relation to\n",
                " - The segment in front of the intersection\n",
                " - The segment inside the intersection\n",
                "\n",
                "Since the lane segments belong to the same lane, the relation between the individual segments and traffic light can be summarized to one relation.\n"
            ]
        },
        {
            "cell_type": "code",
            "execution_count": 15,
            "id": "b278eabd",
            "metadata": {},
            "outputs": [
                {
                    "name": "stdout",
                    "output_type": "stream",
                    "text": [
                        "Number of traffic light to lane relations: 230\n"
                    ]
                }
            ],
            "source": [
                "# Number of traffic lights with relations to lanes\n",
                "count = 0\n",
                "for lane_id in junctionDataset.lane_tl_relations:\n",
                "    corresponding_tl_ids = junctionDataset.lane_tl_relations[lane_id]\n",
                "\n",
                "    predeccor_lanes = mapAPI.get_lane_predecessors(lane_id)\n",
                "    has_predecessor = any(predecessor in junctionDataset.lane_tl_relations.keys()\n",
                "                            for predecessor in predeccor_lanes)\n",
                "    if has_predecessor:\n",
                "        continue\n",
                "    count += len(corresponding_tl_ids)\n",
                "\n",
                "print(f\"Number of traffic light to lane relations: {count}\")"
            ]
        },
        {
            "cell_type": "code",
            "execution_count": 16,
            "id": "e261f5f5",
            "metadata": {},
            "outputs": [
                {
                    "name": "stdout",
                    "output_type": "stream",
                    "text": [
                        "there are 230 lane relations → in avg. 2.4 lane relations per traffic light\n"
                    ]
                }
            ],
            "source": [
                "print(f\"there are {count} lane relations → in avg. {round(count/tl_with_lane_relations, 2)} lane relations per traffic light\")"
            ]
        },
        {
            "cell_type": "markdown",
            "id": "0431d89e",
            "metadata": {},
            "source": [
                "## Visualize Distribution of Scenes over Traffic Light Junctions "
            ]
        },
        {
            "cell_type": "code",
            "execution_count": 17,
            "id": "b49a4937",
            "metadata": {},
            "outputs": [],
            "source": [
                "pd.options.plotting.backend = \"matplotlib\""
            ]
        },
        {
            "cell_type": "code",
            "execution_count": 18,
            "id": "2346a3a8",
            "metadata": {},
            "outputs": [],
            "source": [
                "# helper function\n",
                "def find_elements_of_A_not_in_B(a: list, b: list) -> list:\n",
                "    return [el for el in a if el not in b]"
            ]
        },
        {
            "cell_type": "code",
            "execution_count": 19,
            "id": "2b523b38",
            "metadata": {},
            "outputs": [],
            "source": [
                "preprocessed_data_path = \"./dataset/preprocessed_info/extended_junction_branch_to_lane.csv\"\n",
                "branches_df = pd.read_csv(preprocessed_data_path, encoding=\"ascii\")"
            ]
        },
        {
            "cell_type": "code",
            "execution_count": 20,
            "id": "33ec77a8",
            "metadata": {},
            "outputs": [],
            "source": [
                "# Load Preprocessed Dataframe with agent to lane mapping for every frame of every scene in trainfull dataset\n",
                "with open('./dataset/preprocessed_info/frame_lane_df_trainfull.pkl', 'rb') as f:\n",
                "    frame_lane_df = pickle.load(f)\n"
            ]
        },
        {
            "cell_type": "code",
            "execution_count": 21,
            "id": "6bcd0d58",
            "metadata": {},
            "outputs": [
                {
                    "data": {
                        "text/plain": [
                            "scene_idx  junction_id\n",
                            "1          unknown        287\n",
                            "           y4Ss            88\n",
                            "2          y4Ss           249\n",
                            "3          y4Ss           249\n",
                            "4          y4Ss           249\n",
                            "                         ... \n",
                            "134619     unknown        329\n",
                            "           y4Ss            71\n",
                            "134620     unknown        318\n",
                            "134621     LrDx           150\n",
                            "           unknown        128\n",
                            "Length: 183871, dtype: int64"
                        ]
                    },
                    "execution_count": 21,
                    "metadata": {},
                    "output_type": "execute_result"
                }
            ],
            "source": [
                "# Merge Agent to lane Mapping and Junction Branch Dataset \n",
                "merged_df = frame_lane_df.join(\n",
                "    branches_df.set_index('lane_id'), on=['lane_id'])\n",
                "merged_df = merged_df.fillna(\"unknown\")\n",
                "merged_df.groupby(['scene_idx', 'junction_id']).size()"
            ]
        },
        {
            "cell_type": "markdown",
            "id": "cdb42ac3",
            "metadata": {},
            "source": [
                "### Visualize Distribution over Junction IDs"
            ]
        },
        {
            "cell_type": "code",
            "execution_count": 23,
            "id": "5e5cfce9",
            "metadata": {},
            "outputs": [
                {
                    "data": {
                        "image/png": "[encoded data removed]",
                        "text/plain": [
                            "<Figure size 432x288 with 1 Axes>"
                        ]
                    },
                    "metadata": {},
                    "output_type": "display_data"
                }
            ],
            "source": [
                "junc_distribution = merged_df.groupby(['scene_idx', 'junction_id']).size().groupby(\n",
                "    'junction_id').count()\n",
                "junc_distribution = junc_distribution.sort_values(ascending=False)\n",
                "junc_distribution.plot.bar( x=\"Junctions\", y=\"Number of Trips\")\n",
                "plt.title(\"Distribution of Junction Trips\")\n",
                "plt.xlabel('Number of Trips')\n",
                "plt.ylabel(\"Branch Id\")\n",
                "plt.savefig(\n",
                "    \"./res/analysis/dynamic_data/distribution_junction_trips_trainfull.png\", bbox_inches='tight')\n",
                "plt.show()"
            ]
        },
        {
            "cell_type": "markdown",
            "id": "d630326d",
            "metadata": {},
            "source": [
                "### Visualize Distribution over Branch IDs"
            ]
        },
        {
            "cell_type": "code",
            "execution_count": 24,
            "id": "a4d55bfc",
            "metadata": {},
            "outputs": [
                {
                    "data": {
                        "image/png": "[encoded data removed]",
                        "text/plain": [
                            "<Figure size 432x288 with 1 Axes>"
                        ]
                    },
                    "metadata": {},
                    "output_type": "display_data"
                }
            ],
            "source": [
                "branch_distribution = merged_df.groupby(['scene_idx', 'branch_id']).size().groupby(\n",
                "    'branch_id').count()\n",
                "branch_distribution = branch_distribution.sort_values(ascending=False)\n",
                "branch_distribution.plot.bar(x=\"Branches\", y=\"Number of Trips\",\n",
                "                             title=\"Distribution of Branch Trips\", color=\"orange\")\n",
                "plt.xlabel('Number of Trips')\n",
                "plt.ylabel(\"Branch Id\")\n",
                "plt.savefig(\"./res/analysis/dynamic_data/distribution_branch_trips_trainfull.png\", bbox_inches='tight')\n",
                "plt.show()"
            ]
        },
        {
            "cell_type": "markdown",
            "id": "21b65b42",
            "metadata": {},
            "source": [
                "### Show Distribution per Branch ID over Junctions"
            ]
        },
        {
            "cell_type": "code",
            "execution_count": 44,
            "id": "05d88e81",
            "metadata": {},
            "outputs": [
                {
                    "name": "stderr",
                    "output_type": "stream",
                    "text": [
                        "/lhome/andrwe/Programming/AFL_6Sem/venv/lib/python3.6/site-packages/ipykernel_launcher.py:41: MatplotlibDeprecationWarning:\n",
                        "\n",
                        "Adding an axes using the same arguments as a previous axes currently reuses the earlier instance.  In a future version, a new instance will always be created and returned.  Meanwhile, this warning can be suppressed, and the future behavior ensured, by passing a unique label to each axes instance.\n",
                        "\n"
                    ]
                },
                {
                    "data": {
                        "image/png": "[encoded data removed]",
                        "text/plain": [
                            "<Figure size 1500x1200 with 12 Axes>"
                        ]
                    },
                    "metadata": {},
                    "output_type": "display_data"
                }
            ],
            "source": [
                "available_junction_ids = merged_df.groupby(['scene_idx', 'junction_id']).size(\n",
                ").groupby('junction_id').count().index.values.tolist()\n",
                "tl_junction_ids = branches_df[\"junction_id\"].unique().tolist()\n",
                "find_elements_of_A_not_in_B(tl_junction_ids, available_junction_ids)\n",
                "# %%\n",
                "available_branch_ids = merged_df.groupby(['scene_idx', 'branch_id']).size(\n",
                ").groupby('branch_id').count().index.values.tolist()\n",
                "# %%\n",
                "scene_ids_per_lane = merged_df.groupby(\"lane_id\")[\"scene_idx\"].unique()\n",
                "driven_lane_ids = merged_df[\"lane_id\"].unique().tolist()\n",
                "# %%\n",
                "lane_id_to_scene_ids_df = pd.DataFrame(columns=[\"lane_id\", \"scene_indices\"])\n",
                "lane_id_to_scene_ids_df[\"scene_indices\"] = lane_id_to_scene_ids_df[\"scene_indices\"].astype(\n",
                "    'object')\n",
                "lane_id_to_scene_ids_df[\"scene_indices\"] = scene_ids_per_lane.values.tolist()\n",
                "lane_id_to_scene_ids_df[\"lane_id\"] = merged_df[\"lane_id\"].unique().tolist()\n",
                "lane_id_to_scene_ids_df[\"trips\"] = lane_id_to_scene_ids_df[\"scene_indices\"].apply(\n",
                "    lambda x: len(x))\n",
                "# %%\n",
                "lane_id_to_scene_ids_df[\"trips\"].max()\n",
                "# %%\n",
                "plt.style.use('default')\n",
                "plt.figure(figsize=(15, 12))\n",
                "plt.subplots_adjust(hspace=0.5)\n",
                "\n",
                "# plt.suptitle(\n",
                "#     \"Branch Trip Distribution for every Traffic Light Junction\", fontsize=14, y=0.95)\n",
                "for i, junction in enumerate(branches_df[\"junction_id\"].unique().tolist()):\n",
                "    branch_dict = dict()\n",
                "    branches = branches_df[branches_df[\"junction_id\"]\n",
                "                           == junction][\"branch_id\"].unique().tolist()\n",
                "    for b in branches:\n",
                "        if b in branch_distribution.index.values.tolist():\n",
                "            branch_dict[b] = branch_distribution[b]\n",
                "        else:\n",
                "            branch_dict[b] = 0\n",
                "\n",
                "        names = list(branch_dict.keys())\n",
                "        values = list(branch_dict.values())\n",
                "\n",
                "        ax = plt.subplot(3, 4, i + 1)\n",
                "        ax.bar(range(len(branch_dict)), values, tick_label=names)\n",
                "        ax.set_title(junction, fontsize=12)\n",
                "        \n",
                "plt.savefig(\n",
                "    \"./res/analysis/dynamic_data/branch_travel_distribution_per_junction_trainfull.png\", bbox_inches='tight')\n",
                "plt.show()"
            ]
        },
        {
            "cell_type": "markdown",
            "id": "1592dda7",
            "metadata": {},
            "source": [
                "## Target Associations for Ego Vehicle"
            ]
        },
        {
            "cell_type": "code",
            "execution_count": 21,
            "id": "b129f35a",
            "metadata": {},
            "outputs": [],
            "source": [
                "pd.options.plotting.backend = \"matplotlib\"\n",
                "dataset_type = \"trainfull\"\n",
                "cfg, dm, zarr_dataset = init_dataset(config_name=dataset_type)\n",
                "mapAPI = ExtendedMapAPI.from_config(dm, cfg)\n",
                "junctionDataset = JunctionDataset(cfg, mapAPI, zarr_dataset)\n",
                "extended_branch_df = junctionDataset.get_branch_dataset(DATASET_TYPE.EXTENDED)"
            ]
        },
        {
            "cell_type": "code",
            "execution_count": 23,
            "id": "7da241ab",
            "metadata": {},
            "outputs": [],
            "source": [
                "ego_lane_mapping = load_pickled_df(\"dataset/preprocessed_info/frame_lane_df_trainfull.pkl\")\n",
                "unique_lane_ids_traveled = ego_lane_mapping[\"lane_id\"].unique()\n",
                "target_df = junctionDataset.get_ground_truth_corrected()\n",
                "ego_target_df = target_df[target_df[\"lane_id\"].isin(unique_lane_ids_traveled)]"
            ]
        },
        {
            "cell_type": "code",
            "execution_count": 24,
            "id": "f75f2c24",
            "metadata": {},
            "outputs": [
                {
                    "data": {
                        "image/png": "[encoded data removed]",
                        "text/plain": [
                            "<Figure size 640x480 with 1 Axes>"
                        ]
                    },
                    "metadata": {},
                    "output_type": "display_data"
                }
            ],
            "source": [
                "ground_trouth_distribution = ego_target_df.groupby(by=\"relation\", as_index=False).count()\n",
                "ground_trouth_distribution[[\"relation\", \"tl_id\"]].plot(kind='bar', x=\"relation\", y=\"tl_id\", legend=False, color=[(196/255, 20/255, 20/255)])\n",
                "plt.gca().set_axisbelow(True)\n",
                "plt.grid(axis='y', linestyle='dashed')\n",
                "plt.ylabel('Occurrence')\n",
                "plt.xlabel('Association of traffic light lane pairs')\n",
                "plt.show()"
            ]
        }
    ],
    "metadata": {
        "interpreter": {
            "hash": "f7c6aaa234d1630e10b4614d0e7cf7928154d3b64a09a6327139aff4b13bda5a"
        },
        "jupytext": {
            "cell_metadata_filter": "title,-all",
            "main_language": "python",
            "notebook_metadata_filter": "-all"
        },
        "kernelspec": {
            "display_name": "Python 3.6.9 ('venv': venv)",
            "language": "python",
            "name": "python3"
        },
        "language_info": {
            "codemirror_mode": {
                "name": "ipython",
                "version": 3
            },
            "file_extension": ".py",
            "mimetype": "text/x-python",
            "name": "python",
            "nbconvert_exporter": "python",
            "pygments_lexer": "ipython3",
            "version": "3.8.0"
        }
    },
    "nbformat": 4,
    "nbformat_minor": 5
}
